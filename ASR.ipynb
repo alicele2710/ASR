{
  "cells": [
    {
      "cell_type": "markdown",
      "metadata": {
        "id": "UR4qfYrVoO4v"
      },
      "source": [
        "# Installs"
      ]
    },
    {
      "cell_type": "code",
      "execution_count": null,
      "metadata": {
        "colab": {
          "base_uri": "https://localhost:8080/"
        },
        "id": "mA9qZoIDcx-h",
        "outputId": "323a7b8c-7972-40d3-afb8-b144393f710b"
      },
      "outputs": [
        {
          "name": "stdout",
          "output_type": "stream",
          "text": [
            "\u001b[2K     \u001b[90m━━━━━━━━━━━━━━━━━━━━━━━━━━━━━━━━━━━━━━━━\u001b[0m \u001b[32m1.8/1.8 GB\u001b[0m \u001b[31m544.7 kB/s\u001b[0m eta \u001b[36m0:00:00\u001b[0m\n",
            "\u001b[2K     \u001b[90m━━━━━━━━━━━━━━━━━━━━━━━━━━━━━━━━━━━━━━━━\u001b[0m \u001b[32m24.3/24.3 MB\u001b[0m \u001b[31m61.8 MB/s\u001b[0m eta \u001b[36m0:00:00\u001b[0m\n",
            "\u001b[2K     \u001b[90m━━━━━━━━━━━━━━━━━━━━━━━━━━━━━━━━━━━━━━━━\u001b[0m \u001b[32m2.0/2.0 MB\u001b[0m \u001b[31m10.4 MB/s\u001b[0m eta \u001b[36m0:00:00\u001b[0m\n",
            "\u001b[2K     \u001b[90m━━━━━━━━━━━━━━━━━━━━━━━━━━━━━━━━━━━━━━━━\u001b[0m \u001b[32m4.2/4.2 MB\u001b[0m \u001b[31m90.9 MB/s\u001b[0m eta \u001b[36m0:00:00\u001b[0m\n",
            "\u001b[2K     \u001b[90m━━━━━━━━━━━━━━━━━━━━━━━━━━━━━━━━━━━━━━━━\u001b[0m \u001b[32m4.6/4.6 MB\u001b[0m \u001b[31m68.0 MB/s\u001b[0m eta \u001b[36m0:00:00\u001b[0m\n",
            "\u001b[?25h"
          ]
        }
      ],
      "source": [
        "%pip install torch==1.13.1+cu117 torchvision==0.14.1+cu117 torchtext==0.14.1 torchaudio==0.13.1 torchdata==0.5.1 --extra-index-url https://download.pytorch.org/whl/cu117 -q"
      ]
    },
    {
      "cell_type": "markdown",
      "metadata": {
        "id": "ONgAWhqdoYy-"
      },
      "source": [
        "\n",
        "This may take a while"
      ]
    },
    {
      "cell_type": "code",
      "execution_count": null,
      "metadata": {
        "colab": {
          "base_uri": "https://localhost:8080/"
        },
        "id": "SS7a7xeEoaV9",
        "outputId": "5c286e30-62c0-4e47-ef96-ff9c42e84fe7"
      },
      "outputs": [
        {
          "name": "stdout",
          "output_type": "stream",
          "text": [
            "\u001b[2K     \u001b[90m━━━━━━━━━━━━━━━━━━━━━━━━━━━━━━━━━━━━━━━━\u001b[0m \u001b[32m2.2/2.2 MB\u001b[0m \u001b[31m10.7 MB/s\u001b[0m eta \u001b[36m0:00:00\u001b[0m\n",
            "\u001b[2K     \u001b[90m━━━━━━━━━━━━━━━━━━━━━━━━━━━━━━━━━━━━━━━━\u001b[0m \u001b[32m207.3/207.3 kB\u001b[0m \u001b[31m21.2 MB/s\u001b[0m eta \u001b[36m0:00:00\u001b[0m\n",
            "\u001b[2K     \u001b[90m━━━━━━━━━━━━━━━━━━━━━━━━━━━━━━━━━━━━━━━━\u001b[0m \u001b[32m264.9/264.9 kB\u001b[0m \u001b[31m21.9 MB/s\u001b[0m eta \u001b[36m0:00:00\u001b[0m\n",
            "\u001b[2K     \u001b[90m━━━━━━━━━━━━━━━━━━━━━━━━━━━━━━━━━━━━━━━━\u001b[0m \u001b[32m62.7/62.7 kB\u001b[0m \u001b[31m4.5 MB/s\u001b[0m eta \u001b[36m0:00:00\u001b[0m\n",
            "\u001b[2K     \u001b[90m━━━━━━━━━━━━━━━━━━━━━━━━━━━━━━━━━━━━━━━━\u001b[0m \u001b[32m177.4/177.4 kB\u001b[0m \u001b[31m2.1 MB/s\u001b[0m eta \u001b[36m0:00:00\u001b[0m\n",
            "\u001b[2K     \u001b[90m━━━━━━━━━━━━━━━━━━━━━━━━━━━━━━━━━━━━━━━━\u001b[0m \u001b[32m3.4/3.4 MB\u001b[0m \u001b[31m10.9 MB/s\u001b[0m eta \u001b[36m0:00:00\u001b[0m\n",
            "\u001b[?25hCloning into 'ctcdecode'...\n",
            "remote: Enumerating objects: 1102, done.\u001b[K\n",
            "remote: Counting objects: 100% (39/39), done.\u001b[K\n",
            "remote: Compressing objects: 100% (25/25), done.\u001b[K\n",
            "remote: Total 1102 (delta 16), reused 32 (delta 14), pack-reused 1063\u001b[K\n",
            "Receiving objects: 100% (1102/1102), 782.27 KiB | 6.41 MiB/s, done.\n",
            "Resolving deltas: 100% (529/529), done.\n",
            "Submodule 'third_party/ThreadPool' (https://github.com/progschj/ThreadPool.git) registered for path 'third_party/ThreadPool'\n",
            "Submodule 'third_party/kenlm' (https://github.com/kpu/kenlm.git) registered for path 'third_party/kenlm'\n",
            "Cloning into '/content/ctcdecode/third_party/ThreadPool'...\n",
            "remote: Enumerating objects: 82, done.        \n",
            "remote: Counting objects: 100% (26/26), done.        \n",
            "remote: Compressing objects: 100% (9/9), done.        \n",
            "remote: Total 82 (delta 19), reused 17 (delta 17), pack-reused 56        \n",
            "Receiving objects: 100% (82/82), 13.34 KiB | 6.67 MiB/s, done.\n",
            "Resolving deltas: 100% (36/36), done.\n",
            "Cloning into '/content/ctcdecode/third_party/kenlm'...\n",
            "remote: Enumerating objects: 14165, done.        \n",
            "remote: Counting objects: 100% (478/478), done.        \n",
            "remote: Compressing objects: 100% (331/331), done.        \n",
            "remote: Total 14165 (delta 163), reused 409 (delta 133), pack-reused 13687        \n",
            "Receiving objects: 100% (14165/14165), 5.91 MiB | 17.29 MiB/s, done.\n",
            "Resolving deltas: 100% (8043/8043), done.\n",
            "Submodule path 'third_party/ThreadPool': checked out '9a42ec1329f259a5f4881a291db1dcb8f2ad9040'\n",
            "Submodule path 'third_party/kenlm': checked out '35835f1ac4884126458ac89f9bf6dd9ccad561e0'\n",
            "  Preparing metadata (setup.py) ... \u001b[?25l\u001b[?25hdone\n",
            "  Building wheel for wget (setup.py) ... \u001b[?25l\u001b[?25hdone\n",
            "/content/ctcdecode\n",
            "  Preparing metadata (setup.py) ... \u001b[?25l\u001b[?25hdone\n",
            "  Building wheel for ctcdecode (setup.py) ... \u001b[?25l\u001b[?25hdone\n",
            "/content\n"
          ]
        }
      ],
      "source": [
        "!pip install wandb --quiet\n",
        "!pip install python-Levenshtein -q\n",
        "!git clone --recursive https://github.com/parlance/ctcdecode.git\n",
        "!pip install wget -q\n",
        "%cd ctcdecode\n",
        "!pip install . -q\n",
        "%cd ..\n",
        "\n",
        "!pip install torchsummaryX -q"
      ]
    },
    {
      "cell_type": "code",
      "execution_count": null,
      "metadata": {
        "colab": {
          "base_uri": "https://localhost:8080/",
          "height": 34
        },
        "id": "HKLIou7YPo2Q",
        "outputId": "7ec0ad72-261f-4bc3-9b2a-0dff99006371"
      },
      "outputs": [
        {
          "data": {
            "application/vnd.google.colaboratory.intrinsic+json": {
              "type": "string"
            },
            "text/plain": [
              "\"\\nIf torchsummaryX doesn't work, please run this cell. Alternatively, please refer to Piazza post @209 for more assistance:\\n\""
            ]
          },
          "execution_count": 3,
          "metadata": {},
          "output_type": "execute_result"
        }
      ],
      "source": [
        "'''\n",
        "If torchsummaryX doesn't work, please run this cell. Alternatively, please refer to Piazza post @209 for more assistance:\n",
        "'''\n",
        "\n",
        "# !pip install torchsummaryx==1.1.0"
      ]
    },
    {
      "cell_type": "markdown",
      "metadata": {
        "id": "IWVONJxCobPc"
      },
      "source": [
        "# Imports"
      ]
    },
    {
      "cell_type": "code",
      "execution_count": null,
      "metadata": {
        "colab": {
          "base_uri": "https://localhost:8080/"
        },
        "id": "78ZTCIXoof2f",
        "outputId": "a6f74dbf-d379-46db-a8ad-ce1a2eae3f5d"
      },
      "outputs": [
        {
          "name": "stdout",
          "output_type": "stream",
          "text": [
            "Device:  cuda\n"
          ]
        }
      ],
      "source": [
        "import torch\n",
        "import random\n",
        "import numpy as np\n",
        "import torch.nn as nn\n",
        "import torch.nn.functional as F\n",
        "from torchsummaryX import summary\n",
        "from torch.utils.data import Dataset, DataLoader\n",
        "from torch.nn.utils.rnn import pad_sequence, pack_padded_sequence, pad_packed_sequence\n",
        "\n",
        "import torchaudio.transforms as tat\n",
        "\n",
        "from sklearn.metrics import accuracy_score\n",
        "import gc\n",
        "\n",
        "import zipfile\n",
        "import pandas as pd\n",
        "from tqdm import tqdm\n",
        "import os\n",
        "import datetime\n",
        "\n",
        "# imports for decoding and distance calculation\n",
        "import ctcdecode\n",
        "import Levenshtein\n",
        "from ctcdecode import CTCBeamDecoder\n",
        "\n",
        "import warnings\n",
        "warnings.filterwarnings('ignore')\n",
        "\n",
        "device = 'cuda' if torch.cuda.is_available() else 'cpu'\n",
        "print(\"Device: \", device)"
      ]
    },
    {
      "cell_type": "markdown",
      "metadata": {
        "id": "gg3-yJ8tok34"
      },
      "source": [
        "# Kaggle Setup"
      ]
    },
    {
      "cell_type": "code",
      "execution_count": null,
      "metadata": {
        "colab": {
          "base_uri": "https://localhost:8080/"
        },
        "id": "AdUelfGhom1m",
        "outputId": "cf464be3-1db2-4e5d-9dbc-691826b8e773"
      },
      "outputs": [
        {
          "name": "stdout",
          "output_type": "stream",
          "text": [
            "\u001b[?25l     \u001b[90m━━━━━━━━━━━━━━━━━━━━━━━━━━━━━━━━━━━━━━━━\u001b[0m \u001b[32m0.0/59.2 kB\u001b[0m \u001b[31m?\u001b[0m eta \u001b[36m-:--:--\u001b[0m\r\u001b[2K     \u001b[91m━━━━━━━━━━━━━━━━━━━━\u001b[0m\u001b[91m╸\u001b[0m\u001b[90m━━━━━━━━━━━━━━━━━━━\u001b[0m \u001b[32m30.7/59.2 kB\u001b[0m \u001b[31m846.6 kB/s\u001b[0m eta \u001b[36m0:00:01\u001b[0m\r\u001b[2K     \u001b[90m━━━━━━━━━━━━━━━━━━━━━━━━━━━━━━━━━━━━━━━━\u001b[0m \u001b[32m59.2/59.2 kB\u001b[0m \u001b[31m846.4 kB/s\u001b[0m eta \u001b[36m0:00:00\u001b[0m\n",
            "\u001b[?25h  Preparing metadata (setup.py) ... \u001b[?25l\u001b[?25hdone\n",
            "  Building wheel for kaggle (setup.py) ... \u001b[?25l\u001b[?25hdone\n"
          ]
        }
      ],
      "source": [
        "!pip install --upgrade --force-reinstall --no-deps kaggle==1.5.8 -q\n",
        "!mkdir /root/.kaggle\n",
        "\n",
        "with open(\"/root/.kaggle/kaggle.json\", \"w+\") as f:\n",
        "    f.write('{\"username\":\"alicele\",\"key\":\"\"}') # TODO: Put your kaggle username & key here\n",
        "\n",
        "!chmod 600 /root/.kaggle/kaggle.json"
      ]
    },
    {
      "cell_type": "code",
      "execution_count": null,
      "metadata": {
        "colab": {
          "base_uri": "https://localhost:8080/"
        },
        "id": "dSjBwfXeoq4B",
        "outputId": "aee5bf58-2822-4d17-bc21-32de99ea6c74"
      },
      "outputs": [
        {
          "name": "stdout",
          "output_type": "stream",
          "text": [
            "Downloading hw3p2asr-s24.zip to /content\n",
            "100% 3.74G/3.74G [00:37<00:00, 92.8MB/s]\n",
            "100% 3.74G/3.74G [00:37<00:00, 107MB/s] \n"
          ]
        }
      ],
      "source": [
        "\n",
        "!kaggle competitions download -c hw3p2asr-s24"
      ]
    },
    {
      "cell_type": "code",
      "execution_count": null,
      "metadata": {
        "colab": {
          "base_uri": "https://localhost:8080/"
        },
        "id": "_ruxWP60LCQA",
        "outputId": "b330a1f7-cfb6-4a9c-cb67-efce4d379e6f"
      },
      "outputs": [
        {
          "name": "stdout",
          "output_type": "stream",
          "text": [
            "11-785-s24-hw3p2  ctcdecode  hw3p2asr-s24.zip  sample_data\n"
          ]
        }
      ],
      "source": [
        "'''\n",
        "This will take a couple minutes, but you should see at least the following:\n",
        "11-785-s24-hw3p2  ctcdecode  hw3p2asr-s24.zip  sample_data\n",
        "'''\n",
        "!unzip -q hw3p2asr-s24.zip\n",
        "!ls"
      ]
    },
    {
      "cell_type": "markdown",
      "metadata": {
        "id": "R9v5ewZDMpYA"
      },
      "source": [
        "# Google Drive"
      ]
    },
    {
      "cell_type": "code",
      "execution_count": null,
      "metadata": {
        "id": "4Cp-716IMZRd"
      },
      "outputs": [],
      "source": [
        "# from google.colab import drive\n",
        "# drive.mount('/content/gdrive')"
      ]
    },
    {
      "cell_type": "markdown",
      "metadata": {
        "id": "2ORNHnSFroP0"
      },
      "source": [
        "# Dataset and Dataloader"
      ]
    },
    {
      "cell_type": "code",
      "execution_count": null,
      "metadata": {
        "id": "k0v7wHRWrqH6"
      },
      "outputs": [],
      "source": [
        "# ARPABET PHONEME MAPPING\n",
        "# DO NOT CHANGE\n",
        "\n",
        "CMUdict_ARPAbet = {\n",
        "    \"\" : \" \",\n",
        "    \"[SIL]\": \"-\", \"NG\": \"G\", \"F\" : \"f\", \"M\" : \"m\", \"AE\": \"@\",\n",
        "    \"R\"    : \"r\", \"UW\": \"u\", \"N\" : \"n\", \"IY\": \"i\", \"AW\": \"W\",\n",
        "    \"V\"    : \"v\", \"UH\": \"U\", \"OW\": \"o\", \"AA\": \"a\", \"ER\": \"R\",\n",
        "    \"HH\"   : \"h\", \"Z\" : \"z\", \"K\" : \"k\", \"CH\": \"C\", \"W\" : \"w\",\n",
        "    \"EY\"   : \"e\", \"ZH\": \"Z\", \"T\" : \"t\", \"EH\": \"E\", \"Y\" : \"y\",\n",
        "    \"AH\"   : \"A\", \"B\" : \"b\", \"P\" : \"p\", \"TH\": \"T\", \"DH\": \"D\",\n",
        "    \"AO\"   : \"c\", \"G\" : \"g\", \"L\" : \"l\", \"JH\": \"j\", \"OY\": \"O\",\n",
        "    \"SH\"   : \"S\", \"D\" : \"d\", \"AY\": \"Y\", \"S\" : \"s\", \"IH\": \"I\",\n",
        "    \"[SOS]\": \"[SOS]\", \"[EOS]\": \"[EOS]\"\n",
        "}\n",
        "\n",
        "CMUdict = list(CMUdict_ARPAbet.keys())\n",
        "ARPAbet = list(CMUdict_ARPAbet.values())\n",
        "\n",
        "\n",
        "PHONEMES = CMUdict[:-2]\n",
        "LABELS = ARPAbet[:-2]"
      ]
    },
    {
      "cell_type": "code",
      "execution_count": null,
      "metadata": {
        "id": "eN2kcxwXLLBb"
      },
      "outputs": [],
      "source": [
        "# You might want to play around with the mapping as a sanity check here"
      ]
    },
    {
      "cell_type": "markdown",
      "metadata": {
        "id": "agmNBKf4JrLV"
      },
      "source": [
        "### Train Data"
      ]
    },
    {
      "cell_type": "code",
      "execution_count": null,
      "metadata": {
        "id": "afd0_vlbJmr_"
      },
      "outputs": [],
      "source": [
        "class AudioDataset(torch.utils.data.Dataset):\n",
        "\n",
        "    # For this homework, we give you full flexibility to design your data set class.\n",
        "    # Hint: The data from HW1 is very similar to this HW\n",
        "\n",
        "    #TODO\n",
        "    def __init__(self, root, phonemes=PHONEMES, partition=\"train-clean-100\"):\n",
        "        '''\n",
        "        Initializes the dataset.\n",
        "\n",
        "        INPUTS: What inputs do you need here?\n",
        "        '''\n",
        "\n",
        "        self.mfcc_dir = root + partition + \"/mfcc/\"\n",
        "        self.transcript_dir = root + partition + \"/transcript/\"\n",
        "\n",
        "        self.mfcc_files = sorted(os.listdir(self.mfcc_dir))\n",
        "        self.transcript_files = sorted(os.listdir(self.transcript_dir))\n",
        "\n",
        "        self.PHONEMES = PHONEMES\n",
        "\n",
        "        self.mfccs, self.transcripts = [], []\n",
        "\n",
        "        for i in range(len(self.mfcc_files)):\n",
        "\n",
        "            mfcc        = np.load(self.mfcc_dir + self.mfcc_files[i])\n",
        "\n",
        "            mfcc = (mfcc - np.mean(mfcc, axis=0)) / np.std(mfcc, axis=0)\n",
        "\n",
        "            transcript  = np.load(self.transcript_dir + self.transcript_files[i])\n",
        "\n",
        "            transcript = transcript[1:-1]\n",
        "\n",
        "            transcript = np.array([self.PHONEMES.index(element) for element in transcript])\n",
        "            self.mfccs.append(mfcc)\n",
        "            self.transcripts.append(transcript)\n",
        "\n",
        "        self.length = len(self.mfccs)\n",
        "\n",
        "    def __len__(self):\n",
        "\n",
        "        '''\n",
        "        TODO: What do we return here?\n",
        "        '''\n",
        "        return self.length\n",
        "\n",
        "\n",
        "    def __getitem__(self, ind):\n",
        "\n",
        "\n",
        "        mfcc = self.mfccs[ind]\n",
        "        transcript = self.transcripts[ind]\n",
        "\n",
        "        return torch.FloatTensor(mfcc), torch.tensor(transcript)\n",
        "\n",
        "    def collate_fn(self,batch):\n",
        "        '''\n",
        "        TODO:\n",
        "        1.  Extract the features and labels from 'batch'\n",
        "        2.  We will additionally need to pad both features and labels,\n",
        "            look at pytorch's docs for pad_sequence\n",
        "        3.  This is a good place to perform transforms, if you so wish.\n",
        "            Performing them on batches will speed the process up a bit.\n",
        "        4.  Return batch of features, labels, lenghts of features,\n",
        "            and lengths of labels.\n",
        "        '''\n",
        "        batch_mfcc = [item[0] for item in batch]\n",
        "\n",
        "        batch_transcript = [item[1] for item in batch]\n",
        "\n",
        "        batch_mfcc_pad = pad_sequence(batch_mfcc, batch_first=True)\n",
        "        lengths_mfcc = [len(seq) for seq in batch_mfcc]\n",
        "\n",
        "        batch_transcript_pad = pad_sequence(batch_transcript, batch_first=True)\n",
        "        lengths_transcript = [len(seq) for seq in batch_transcript]\n",
        "\n",
        "        return batch_mfcc_pad, batch_transcript_pad, torch.tensor(lengths_mfcc), torch.tensor(lengths_transcript)\n",
        "\n"
      ]
    },
    {
      "cell_type": "markdown",
      "metadata": {
        "id": "hqDrxeHfJw4g"
      },
      "source": [
        "### Test Data"
      ]
    },
    {
      "cell_type": "code",
      "execution_count": null,
      "metadata": {
        "id": "HrLS1wfVJppA"
      },
      "outputs": [],
      "source": [
        "# Test Dataloader\n",
        "#TODO\n",
        "\n",
        "class AudioDatasetTest(torch.utils.data.Dataset):\n",
        "\n",
        "    # For this homework, we give you full flexibility to design your data set class.\n",
        "    # Hint: The data from HW1 is very similar to this HW\n",
        "\n",
        "    #TODO\n",
        "    def __init__(self, root, partition=\"test-clean\"):\n",
        "        '''\n",
        "        Initializes the dataset.\n",
        "\n",
        "        INPUTS: What inputs do you need here?\n",
        "        '''\n",
        "\n",
        "\n",
        "\n",
        "        self.mfcc_dir = root + partition + \"/mfcc/\"\n",
        "\n",
        "        self.mfcc_files = sorted(os.listdir(self.mfcc_dir))\n",
        "\n",
        "        # self.PHONEMES = PHONEMES\n",
        "\n",
        "        self.mfccs = []\n",
        "\n",
        "        for i in range(len(self.mfcc_files)):\n",
        "\n",
        "            mfcc        = np.load(self.mfcc_dir + self.mfcc_files[i])\n",
        "\n",
        "            mfcc = (mfcc - np.mean(mfcc, axis=0)) / np.std(mfcc, axis=0)\n",
        "\n",
        "            self.mfccs.append(mfcc)\n",
        "\n",
        "        self.length = len(self.mfccs)\n",
        "\n",
        "        '''\n",
        "        You may decide to do this in __getitem__ if you wish.\n",
        "        However, doing this here will make the __init__ function take the load of\n",
        "        loading the data, and shift it away from training.\n",
        "        '''\n",
        "\n",
        "\n",
        "    def __len__(self):\n",
        "\n",
        "        '''\n",
        "        TODO: What do we return here?\n",
        "        '''\n",
        "        return self.length\n",
        "\n",
        "    def __getitem__(self, ind):\n",
        "\n",
        "\n",
        "        mfcc = self.mfccs[ind]\n",
        "\n",
        "        return torch.FloatTensor(mfcc)\n",
        "\n",
        "\n",
        "    def collate_fn(self,batch):\n",
        "        '''\n",
        "        TODO:\n",
        "        1.  Extract the features and labels from 'batch'\n",
        "        2.  We will additionally need to pad both features and labels,\n",
        "            look at pytorch's docs for pad_sequence\n",
        "        3.  This is a good place to perform transforms, if you so wish.\n",
        "            Performing them on batches will speed the process up a bit.\n",
        "        4.  Return batch of features, labels, lenghts of features,\n",
        "            and lengths of labels.\n",
        "        '''\n",
        "        batch_mfcc = batch\n",
        "\n",
        "        batch_mfcc_pad = pad_sequence(batch_mfcc, batch_first=True)\n",
        "        lengths_mfcc = [len(seq) for seq in batch_mfcc]\n",
        "\n",
        "        return batch_mfcc_pad, torch.tensor(lengths_mfcc)\n",
        "\n"
      ]
    },
    {
      "cell_type": "markdown",
      "metadata": {
        "id": "Pt-veYcdL6Fe"
      },
      "source": [
        "### Config - Hyperparameters"
      ]
    },
    {
      "cell_type": "code",
      "execution_count": null,
      "metadata": {
        "id": "MN82c3KpLup8"
      },
      "outputs": [],
      "source": [
        "# root = '/content/11-785-s24-hw3p2/'\n",
        "\n",
        "# Feel free to add more items here\n",
        "config = {\n",
        "    \"beam_width\" : 2,\n",
        "    \"lr\"         : 2e-3,\n",
        "    \"epochs\"     : 40,\n",
        "    \"batch_size\" : 128,  # Increase if your device can handle it\n",
        "    \"weight_decay\" : 1e-4\n",
        "}\n",
        "\n",
        "# You may pass this as a parameter to the dataset class above\n",
        "# This will help modularize your implementation\n",
        "transforms = [] # set of tranformations"
      ]
    },
    {
      "cell_type": "markdown",
      "metadata": {
        "id": "NmuPk9J6L8dz"
      },
      "source": [
        "### Data loaders"
      ]
    },
    {
      "cell_type": "code",
      "execution_count": null,
      "metadata": {
        "colab": {
          "base_uri": "https://localhost:8080/"
        },
        "id": "3_kG0gU2x4hH",
        "outputId": "9b62a598-06f2-41de-d2ac-7672ac364eb8"
      },
      "outputs": [
        {
          "data": {
            "text/plain": [
              "0"
            ]
          },
          "execution_count": 14,
          "metadata": {},
          "output_type": "execute_result"
        }
      ],
      "source": [
        "# get me RAMMM!!!!\n",
        "import gc\n",
        "gc.collect()"
      ]
    },
    {
      "cell_type": "code",
      "execution_count": null,
      "metadata": {
        "colab": {
          "base_uri": "https://localhost:8080/"
        },
        "id": "4mzoYfTKu14s",
        "outputId": "52b5a90a-36a6-4544-ae99-eff54be1b677"
      },
      "outputs": [
        {
          "name": "stdout",
          "output_type": "stream",
          "text": [
            "Batch size:  128\n",
            "Train dataset samples = 28539, batches = 223\n",
            "Val dataset samples = 2703, batches = 22\n",
            "Test dataset samples = 2620, batches = 21\n"
          ]
        }
      ],
      "source": [
        "root_data_path  = \"/content/11-785-s24-hw3p2/\"\n",
        "# Create objects for the dataset class\n",
        "train_data = AudioDataset(root=root_data_path,\n",
        "                          phonemes=PHONEMES,\n",
        "                          partition=\"train-clean-100\") #TODO\n",
        "val_data = AudioDataset(root=root_data_path,\n",
        "                        phonemes=PHONEMES,\n",
        "                        partition=\"dev-clean\") # TODO : You can either use the same class with some modifications or make a new one :)\n",
        "test_data = AudioDatasetTest(root=root_data_path,\n",
        "                             partition=\"test-clean\") #TODO\n",
        "\n",
        "# Do NOT forget to pass in the collate function as parameter while creating the dataloader\n",
        "train_loader = torch.utils.data.DataLoader(\n",
        "    dataset     = train_data,\n",
        "    num_workers = 4,\n",
        "    batch_size  = config['batch_size'],\n",
        "    pin_memory  = True,\n",
        "    shuffle     = True,\n",
        "    collate_fn  = train_data.collate_fn\n",
        ")\n",
        "\n",
        "val_loader = torch.utils.data.DataLoader(\n",
        "    dataset     = val_data,\n",
        "    num_workers = 2,\n",
        "    batch_size  = config['batch_size'],\n",
        "    pin_memory  = True,\n",
        "    shuffle     = False,\n",
        "    collate_fn  = val_data.collate_fn\n",
        ")\n",
        "\n",
        "test_loader = torch.utils.data.DataLoader(\n",
        "    dataset     = test_data,\n",
        "    num_workers = 2,\n",
        "    batch_size  = config['batch_size'],\n",
        "    pin_memory  = True,\n",
        "    shuffle     = False,\n",
        "    collate_fn  = test_data.collate_fn\n",
        ")\n",
        "\n",
        "\n",
        "print(\"Batch size: \", config['batch_size'])\n",
        "print(\"Train dataset samples = {}, batches = {}\".format(train_data.__len__(), len(train_loader)))\n",
        "print(\"Val dataset samples = {}, batches = {}\".format(val_data.__len__(), len(val_loader)))\n",
        "print(\"Test dataset samples = {}, batches = {}\".format(test_data.__len__(), len(test_loader)))"
      ]
    },
    {
      "cell_type": "code",
      "execution_count": null,
      "metadata": {
        "colab": {
          "base_uri": "https://localhost:8080/"
        },
        "id": "cXMtwyviKaxK",
        "outputId": "9aa56219-1947-4450-f311-c4fdf45b5809"
      },
      "outputs": [
        {
          "name": "stdout",
          "output_type": "stream",
          "text": [
            "torch.Size([128, 1706, 27]) torch.Size([128, 208]) torch.Size([128]) torch.Size([128])\n"
          ]
        }
      ],
      "source": [
        "# sanity check\n",
        "for data in train_loader:\n",
        "    x, y, lx, ly = data\n",
        "    print(x.shape, y.shape, lx.shape, ly.shape)\n",
        "    break"
      ]
    },
    {
      "cell_type": "code",
      "execution_count": null,
      "metadata": {
        "colab": {
          "base_uri": "https://localhost:8080/"
        },
        "id": "a8_mPGyY2zBJ",
        "outputId": "20db3c7e-96c9-4ed0-c90c-1b012634e7c3"
      },
      "outputs": [
        {
          "name": "stdout",
          "output_type": "stream",
          "text": [
            "torch.Size([128, 2363, 27]) torch.Size([128])\n"
          ]
        }
      ],
      "source": [
        " # sanity check\n",
        "for data in test_loader:\n",
        "    x, lx = data\n",
        "    print(x.shape, lx.shape)\n",
        "    break"
      ]
    },
    {
      "cell_type": "markdown",
      "metadata": {
        "id": "wSexxhdfMUzx"
      },
      "source": [
        "# NETWORK"
      ]
    },
    {
      "cell_type": "markdown",
      "metadata": {
        "id": "HLad4pChcuvX"
      },
      "source": [
        "## Basic\n",
        "\n",
        "This is a basic block for understanding, you can skip this and move to pBLSTM one"
      ]
    },
    {
      "cell_type": "code",
      "execution_count": null,
      "metadata": {
        "id": "EQhvHr71GJfq"
      },
      "outputs": [],
      "source": [
        "# torch.cuda.empty_cache()\n",
        "# OUT_SIZE = len(PHONEMES)\n",
        "\n",
        "# class Network(nn.Module):\n",
        "\n",
        "#     def __init__(self, input_size):\n",
        "\n",
        "#         super(Network, self).__init__()\n",
        "\n",
        "#         # Adding some sort of embedding layer or feature extractor might help performance.\n",
        "#         # self.embedding = ?\n",
        "\n",
        "#         # TODO : look up the documentation. You might need to pass some additional parameters.\n",
        "#         self.lstm = nn.LSTM(input_size = input_size, hidden_size = 256, num_layers = 1)\n",
        "\n",
        "#         self.classification = nn.Sequential(\n",
        "#             nn.Linear(in_features=256, out_features=OUT_SIZE)\n",
        "#             #TODO: Linear layer with in_features from the lstm module above and out_features = OUT_SIZE\n",
        "#         )\n",
        "#         self.logSoftmax = nn.LogSoftmax(dim=-1)\n",
        "\n",
        "#     def forward(self, x, lx):\n",
        "#         #TODO\n",
        "#         # The forward function takes 2 parameter inputs here. Why?\n",
        "#         # Refer to the handout for hints\n",
        "#         # Pack the sequence for LSTM processing\n",
        "#         x_packed = nn.utils.rnn.pack_padded_sequence(x, lx, batch_first=True, enforce_sorted=False)\n",
        "\n",
        "#         # LSTM and classification\n",
        "#         lstm_out, (h_n, c_n) = self.lstm(x_packed)\n",
        "#         lstm_out, _ = nn.utils.rnn.pad_packed_sequence(lstm_out, batch_first=True)\n",
        "\n",
        "#         # You might need to select the last relevant output depending on your use case\n",
        "#         output = self.classification(lstm_out)\n",
        "\n",
        "#         # Apply logSoftmax\n",
        "#         output = self.logSoftmax(output)\n",
        "\n",
        "#         return output"
      ]
    },
    {
      "cell_type": "markdown",
      "metadata": {
        "id": "tUThsowyQdN7"
      },
      "source": [
        "## Initialize Basic Network\n",
        "(If trying out the basic Network)"
      ]
    },
    {
      "cell_type": "code",
      "execution_count": null,
      "metadata": {
        "id": "CGoiXd70tb5z"
      },
      "outputs": [],
      "source": [
        "# torch.cuda.empty_cache()\n",
        "\n",
        "# model = Network(input_size = 27).to(device)\n",
        "# summary(model, x.to(device), lx) # x and lx come from the sanity check above :)"
      ]
    },
    {
      "cell_type": "markdown",
      "metadata": {
        "id": "e-qb7wnAzCZl"
      },
      "source": [
        "## ASR Network"
      ]
    },
    {
      "cell_type": "markdown",
      "metadata": {
        "id": "PB6eh3gnMUzy"
      },
      "source": [
        "### Pyramid Bi-LSTM (pBLSTM)"
      ]
    },
    {
      "cell_type": "code",
      "execution_count": null,
      "metadata": {
        "id": "qd4BEX_yMUzz"
      },
      "outputs": [],
      "source": [
        "# Utils for network\n",
        "torch.cuda.empty_cache()\n",
        "\n",
        "class PermuteBlock(torch.nn.Module):\n",
        "    def forward(self, x):\n",
        "        return x.transpose(1, 2)"
      ]
    },
    {
      "cell_type": "code",
      "execution_count": null,
      "metadata": {
        "id": "OmdyXI6KMUzz"
      },
      "outputs": [],
      "source": [
        "class pBLSTM(torch.nn.Module):\n",
        "\n",
        "    '''\n",
        "    Pyramidal BiLSTM\n",
        "    Read the write up/paper and understand the concepts and then write your implementation here.\n",
        "\n",
        "    At each step,\n",
        "    1. Pad your input if it is packed (Unpack it)\n",
        "    2. Reduce the input length dimension by concatenating feature dimension\n",
        "        (Tip: Write down the shapes and understand)\n",
        "        (i) How should  you deal with odd/even length input?\n",
        "        (ii) How should you deal with input length array (x_lens) after truncating the input?\n",
        "    3. Pack your input\n",
        "    4. Pass it into LSTM layer\n",
        "\n",
        "    To make our implementation modular, we pass 1 layer at a time.\n",
        "    '''\n",
        "\n",
        "\n",
        "\n",
        "\n",
        "    def __init__(self, input_size, hidden_size):\n",
        "        super(pBLSTM, self).__init__()\n",
        "        # Each pBLSTM layer reduces the time resolution by half, hence we double the input_size\n",
        "        self.blstm = torch.nn.LSTM(input_size=input_size * 2, hidden_size=hidden_size, num_layers=3, bidirectional=True, batch_first=True)\n",
        "\n",
        "\n",
        "    def forward(self, x_packed):\n",
        "        x_padded, x_lengths = pad_packed_sequence(x_packed, batch_first=True)\n",
        "\n",
        "        x, new_lengths = self.trunc_reshape(x_padded, x_lengths)\n",
        "\n",
        "        x_packed = pack_padded_sequence(x, lengths=new_lengths, batch_first=True, enforce_sorted=False)\n",
        "\n",
        "        lstm_output, _ = self.blstm(x_packed)\n",
        "\n",
        "        return lstm_output\n",
        "\n",
        "    def trunc_reshape(self, x, x_lens):\n",
        "\n",
        "\n",
        "        if x.shape[1] % 2 != 0:\n",
        "            x = x[:, :-1]\n",
        "\n",
        "        x = x.reshape(x.shape[0], x.shape[1] // 2, x.shape[2] * 2)\n",
        "\n",
        "        x_lens = x_lens // 2\n",
        "\n",
        "        return x, x_lens\n"
      ]
    },
    {
      "cell_type": "markdown",
      "metadata": {
        "id": "g3ZQ75OcMUz0"
      },
      "source": [
        "### Encoder"
      ]
    },
    {
      "cell_type": "code",
      "execution_count": null,
      "metadata": {
        "id": "GEzw5_xmMUz0"
      },
      "outputs": [],
      "source": [
        "class Encoder(torch.nn.Module):\n",
        "    '''\n",
        "    The Encoder takes utterances as inputs and returns latent feature representations\n",
        "    '''\n",
        "    def __init__(self, input_size, encoder_hidden_size):\n",
        "        super(Encoder, self).__init__()\n",
        "\n",
        "        self.embedding = torch.nn.Sequential(\n",
        "            PermuteBlock(),\n",
        "            nn.Dropout1d(p = 0.1),\n",
        "            nn.Conv1d(in_channels = input_size,out_channels = input_size*4,kernel_size=3,stride = 1,padding=1),\n",
        "            nn.BatchNorm1d(input_size*4),\n",
        "            nn.GELU(),\n",
        "            nn.Dropout1d(p = 0.1),\n",
        "            nn.Conv1d(in_channels = input_size*4,out_channels = input_size*8,kernel_size=3,stride = 1,padding=1),\n",
        "            nn.BatchNorm1d(input_size*8),\n",
        "            nn.GELU(),\n",
        "            nn.Dropout1d(p = 0.1),\n",
        "            nn.Conv1d(in_channels = input_size*8,out_channels = input_size*2,kernel_size=3,stride = 1,padding=1),\n",
        "            nn.BatchNorm1d(input_size*2),\n",
        "            nn.GELU(),\n",
        "            PermuteBlock()\n",
        "        )\n",
        "\n",
        "        self.pBLSTMs = torch.nn.Sequential(\n",
        "            pBLSTM(input_size=2*input_size, hidden_size=encoder_hidden_size),\n",
        "            pBLSTM(input_size=2*encoder_hidden_size, hidden_size=encoder_hidden_size)\n",
        "        )\n",
        "\n",
        "\n",
        "\n",
        "    def forward(self, x, x_lens):\n",
        "        x = self.embedding(x)\n",
        "\n",
        "        x_packed = pack_padded_sequence(x, x_lens, batch_first=True, enforce_sorted=False)\n",
        "\n",
        "        x_packed = self.pBLSTMs(x_packed)\n",
        "\n",
        "        encoder_outputs, encoder_lens = pad_packed_sequence(x_packed, batch_first=True)\n",
        "\n",
        "        return encoder_outputs, encoder_lens\n",
        "\n"
      ]
    },
    {
      "cell_type": "markdown",
      "metadata": {
        "id": "kg82HXa3MUz1"
      },
      "source": [
        "### Decoder"
      ]
    },
    {
      "cell_type": "code",
      "execution_count": null,
      "metadata": {
        "id": "PQIRxdNTMUz1"
      },
      "outputs": [],
      "source": [
        "class Decoder(torch.nn.Module):\n",
        "\n",
        "    def __init__(self, embed_size, output_size= 41):\n",
        "        super().__init__()\n",
        "\n",
        "        self.mlp = torch.nn.Sequential(\n",
        "          nn.Linear(embed_size,1024),\n",
        "          PermuteBlock(),\n",
        "          nn.BatchNorm1d(1024),\n",
        "          PermuteBlock(),\n",
        "          nn.Dropout1d(p = 0.2),\n",
        "          nn.Linear(1024,output_size),\n",
        "          PermuteBlock(),\n",
        "          nn.BatchNorm1d(output_size),\n",
        "          PermuteBlock(),\n",
        "      )\n",
        "\n",
        "        self.softmax = torch.nn.LogSoftmax(dim=2)\n",
        "\n",
        "\n",
        "    def forward(self, encoder_out):\n",
        "        out = self.mlp(encoder_out)\n",
        "        out = self.softmax(out)\n",
        "        return out"
      ]
    },
    {
      "cell_type": "code",
      "execution_count": null,
      "metadata": {
        "id": "qmHf6pFiMUz1"
      },
      "outputs": [],
      "source": [
        "class ASRModel(torch.nn.Module):\n",
        "\n",
        "    def __init__(self, input_size, embed_size= 192, output_size= len(PHONEMES)):\n",
        "        super().__init__()\n",
        "\n",
        "        self.augmentations  = torch.nn.Sequential(\n",
        "            #TODO Add Time Masking/ Frequency Masking\n",
        "            #Hint: See how to use PermuteBlock() function defined above\n",
        "            # torchaudio.transforms.TimeMasking(time_mask_param=100),# experiment without\n",
        "            # torchaudio.transforms.FrequencyMasking(freq_mask_param=27)\n",
        "        )\n",
        "        self.encoder        = Encoder(input_size=input_size, encoder_hidden_size=embed_size)# TODO: Initialize Encoder\n",
        "        self.decoder        = Decoder(embed_size=embed_size*2, output_size=output_size) # TODO: Initialize Decoder\n",
        "\n",
        "\n",
        "\n",
        "    def forward(self, x, lengths_x):\n",
        "\n",
        "        if self.training:\n",
        "            x = self.augmentations(x)\n",
        "\n",
        "        encoder_out, encoder_lens   = self.encoder(x, lengths_x)\n",
        "        decoder_out                 = self.decoder(encoder_out)\n",
        "\n",
        "        return decoder_out, encoder_lens"
      ]
    },
    {
      "cell_type": "markdown",
      "metadata": {
        "id": "EV7DMPDoMUz2"
      },
      "source": [
        "## Initialize ASR Network"
      ]
    },
    {
      "cell_type": "code",
      "execution_count": null,
      "metadata": {
        "colab": {
          "base_uri": "https://localhost:8080/",
          "height": 1000
        },
        "id": "oaaDsnnLMUz2",
        "outputId": "e36ba651-5e70-41ff-f9ae-83d70692c384"
      },
      "outputs": [
        {
          "name": "stdout",
          "output_type": "stream",
          "text": [
            "ASRModel(\n",
            "  (augmentations): Sequential()\n",
            "  (encoder): Encoder(\n",
            "    (embedding): Sequential(\n",
            "      (0): PermuteBlock()\n",
            "      (1): Dropout1d(p=0.1, inplace=False)\n",
            "      (2): Conv1d(27, 108, kernel_size=(3,), stride=(1,), padding=(1,))\n",
            "      (3): BatchNorm1d(108, eps=1e-05, momentum=0.1, affine=True, track_running_stats=True)\n",
            "      (4): GELU(approximate='none')\n",
            "      (5): Dropout1d(p=0.1, inplace=False)\n",
            "      (6): Conv1d(108, 216, kernel_size=(3,), stride=(1,), padding=(1,))\n",
            "      (7): BatchNorm1d(216, eps=1e-05, momentum=0.1, affine=True, track_running_stats=True)\n",
            "      (8): GELU(approximate='none')\n",
            "      (9): Dropout1d(p=0.1, inplace=False)\n",
            "      (10): Conv1d(216, 54, kernel_size=(3,), stride=(1,), padding=(1,))\n",
            "      (11): BatchNorm1d(54, eps=1e-05, momentum=0.1, affine=True, track_running_stats=True)\n",
            "      (12): GELU(approximate='none')\n",
            "      (13): PermuteBlock()\n",
            "    )\n",
            "    (pBLSTMs): Sequential(\n",
            "      (0): pBLSTM(\n",
            "        (blstm): LSTM(108, 192, num_layers=3, batch_first=True, bidirectional=True)\n",
            "      )\n",
            "      (1): pBLSTM(\n",
            "        (blstm): LSTM(768, 192, num_layers=3, batch_first=True, bidirectional=True)\n",
            "      )\n",
            "    )\n",
            "  )\n",
            "  (decoder): Decoder(\n",
            "    (mlp): Sequential(\n",
            "      (0): Linear(in_features=384, out_features=1024, bias=True)\n",
            "      (1): PermuteBlock()\n",
            "      (2): BatchNorm1d(1024, eps=1e-05, momentum=0.1, affine=True, track_running_stats=True)\n",
            "      (3): PermuteBlock()\n",
            "      (4): Dropout1d(p=0.2, inplace=False)\n",
            "      (5): Linear(in_features=1024, out_features=41, bias=True)\n",
            "      (6): PermuteBlock()\n",
            "      (7): BatchNorm1d(41, eps=1e-05, momentum=0.1, affine=True, track_running_stats=True)\n",
            "      (8): PermuteBlock()\n",
            "    )\n",
            "    (softmax): LogSoftmax(dim=2)\n",
            "  )\n",
            ")\n",
            "=============================================================================================\n",
            "                                       Kernel Shape      Output Shape  \\\n",
            "Layer                                                                   \n",
            "0_augmentations                                   -   [128, 2363, 27]   \n",
            "1_encoder.embedding.PermuteBlock_0                -   [128, 27, 2363]   \n",
            "2_encoder.embedding.Dropout1d_1                   -   [128, 27, 2363]   \n",
            "3_encoder.embedding.Conv1d_2           [27, 108, 3]  [128, 108, 2363]   \n",
            "4_encoder.embedding.BatchNorm1d_3             [108]  [128, 108, 2363]   \n",
            "5_encoder.embedding.GELU_4                        -  [128, 108, 2363]   \n",
            "6_encoder.embedding.Dropout1d_5                   -  [128, 108, 2363]   \n",
            "7_encoder.embedding.Conv1d_6          [108, 216, 3]  [128, 216, 2363]   \n",
            "8_encoder.embedding.BatchNorm1d_7             [216]  [128, 216, 2363]   \n",
            "9_encoder.embedding.GELU_8                        -  [128, 216, 2363]   \n",
            "10_encoder.embedding.Dropout1d_9                  -  [128, 216, 2363]   \n",
            "11_encoder.embedding.Conv1d_10         [216, 54, 3]   [128, 54, 2363]   \n",
            "12_encoder.embedding.BatchNorm1d_11            [54]   [128, 54, 2363]   \n",
            "13_encoder.embedding.GELU_12                      -   [128, 54, 2363]   \n",
            "14_encoder.embedding.PermuteBlock_13              -   [128, 2363, 54]   \n",
            "15_encoder.pBLSTMs.0.LSTM_blstm                   -      [55411, 384]   \n",
            "16_encoder.pBLSTMs.1.LSTM_blstm                   -      [27677, 384]   \n",
            "17_decoder.mlp.Linear_0                 [384, 1024]  [128, 590, 1024]   \n",
            "18_decoder.mlp.PermuteBlock_1                     -  [128, 1024, 590]   \n",
            "19_decoder.mlp.BatchNorm1d_2                 [1024]  [128, 1024, 590]   \n",
            "20_decoder.mlp.PermuteBlock_3                     -  [128, 590, 1024]   \n",
            "21_decoder.mlp.Dropout1d_4                        -  [128, 590, 1024]   \n",
            "22_decoder.mlp.Linear_5                  [1024, 41]    [128, 590, 41]   \n",
            "23_decoder.mlp.PermuteBlock_6                     -    [128, 41, 590]   \n",
            "24_decoder.mlp.BatchNorm1d_7                   [41]    [128, 41, 590]   \n",
            "25_decoder.mlp.PermuteBlock_8                     -    [128, 590, 41]   \n",
            "26_decoder.LogSoftmax_softmax                     -    [128, 590, 41]   \n",
            "\n",
            "                                         Params    Mult-Adds  \n",
            "Layer                                                         \n",
            "0_augmentations                               -            -  \n",
            "1_encoder.embedding.PermuteBlock_0            -            -  \n",
            "2_encoder.embedding.Dropout1d_1               -            -  \n",
            "3_encoder.embedding.Conv1d_2             8.856k   20.671524M  \n",
            "4_encoder.embedding.BatchNorm1d_3         216.0        108.0  \n",
            "5_encoder.embedding.GELU_4                    -            -  \n",
            "6_encoder.embedding.Dropout1d_5               -            -  \n",
            "7_encoder.embedding.Conv1d_6              70.2k  165.372192M  \n",
            "8_encoder.embedding.BatchNorm1d_7         432.0        216.0  \n",
            "9_encoder.embedding.GELU_8                    -            -  \n",
            "10_encoder.embedding.Dropout1d_9              -            -  \n",
            "11_encoder.embedding.Conv1d_10          35.046k   82.686096M  \n",
            "12_encoder.embedding.BatchNorm1d_11       108.0         54.0  \n",
            "13_encoder.embedding.GELU_12                  -            -  \n",
            "14_encoder.embedding.PermuteBlock_13          -            -  \n",
            "15_encoder.pBLSTMs.0.LSTM_blstm       2.239488M    2.230272M  \n",
            "16_encoder.pBLSTMs.1.LSTM_blstm       3.253248M    3.244032M  \n",
            "17_decoder.mlp.Linear_0                 394.24k     393.216k  \n",
            "18_decoder.mlp.PermuteBlock_1                 -            -  \n",
            "19_decoder.mlp.BatchNorm1d_2             2.048k       1.024k  \n",
            "20_decoder.mlp.PermuteBlock_3                 -            -  \n",
            "21_decoder.mlp.Dropout1d_4                    -            -  \n",
            "22_decoder.mlp.Linear_5                 42.025k      41.984k  \n",
            "23_decoder.mlp.PermuteBlock_6                 -            -  \n",
            "24_decoder.mlp.BatchNorm1d_7               82.0         41.0  \n",
            "25_decoder.mlp.PermuteBlock_8                 -            -  \n",
            "26_decoder.LogSoftmax_softmax                 -            -  \n",
            "---------------------------------------------------------------------------------------------\n",
            "                           Totals\n",
            "Total params            6.045989M\n",
            "Trainable params        6.045989M\n",
            "Non-trainable params          0.0\n",
            "Mult-Adds             274.640759M\n",
            "=============================================================================================\n"
          ]
        },
        {
          "data": {
            "application/vnd.google.colaboratory.intrinsic+json": {
              "summary": "{\n  \"name\": \"summary(model, x\",\n  \"rows\": 27,\n  \"fields\": [\n    {\n      \"column\": \"Layer\",\n      \"properties\": {\n        \"dtype\": \"string\",\n        \"num_unique_values\": 27,\n        \"samples\": [\n          \"8_encoder.embedding.BatchNorm1d_7\",\n          \"13_encoder.embedding.GELU_12\",\n          \"9_encoder.embedding.GELU_8\"\n        ],\n        \"semantic_type\": \"\",\n        \"description\": \"\"\n      }\n    },\n    {\n      \"column\": \"Kernel Shape\",\n      \"properties\": {\n        \"dtype\": \"object\",\n        \"semantic_type\": \"\",\n        \"description\": \"\"\n      }\n    },\n    {\n      \"column\": \"Output Shape\",\n      \"properties\": {\n        \"dtype\": \"object\",\n        \"semantic_type\": \"\",\n        \"description\": \"\"\n      }\n    },\n    {\n      \"column\": \"Params\",\n      \"properties\": {\n        \"dtype\": \"number\",\n        \"std\": 1075182.6152581505,\n        \"min\": 82.0,\n        \"max\": 3253248.0,\n        \"num_unique_values\": 12,\n        \"samples\": [\n          42025.0,\n          2048.0,\n          8856.0\n        ],\n        \"semantic_type\": \"\",\n        \"description\": \"\"\n      }\n    },\n    {\n      \"column\": \"Mult-Adds\",\n      \"properties\": {\n        \"dtype\": \"number\",\n        \"std\": 50759942.7135832,\n        \"min\": 41.0,\n        \"max\": 165372192.0,\n        \"num_unique_values\": 12,\n        \"samples\": [\n          41984.0,\n          1024.0,\n          20671524.0\n        ],\n        \"semantic_type\": \"\",\n        \"description\": \"\"\n      }\n    }\n  ]\n}",
              "type": "dataframe"
            },
            "text/html": [
              "\n",
              "  <div id=\"df-405525a9-40dc-41ac-bdb5-29653e99df0a\" class=\"colab-df-container\">\n",
              "    <div>\n",
              "<style scoped>\n",
              "    .dataframe tbody tr th:only-of-type {\n",
              "        vertical-align: middle;\n",
              "    }\n",
              "\n",
              "    .dataframe tbody tr th {\n",
              "        vertical-align: top;\n",
              "    }\n",
              "\n",
              "    .dataframe thead th {\n",
              "        text-align: right;\n",
              "    }\n",
              "</style>\n",
              "<table border=\"1\" class=\"dataframe\">\n",
              "  <thead>\n",
              "    <tr style=\"text-align: right;\">\n",
              "      <th></th>\n",
              "      <th>Kernel Shape</th>\n",
              "      <th>Output Shape</th>\n",
              "      <th>Params</th>\n",
              "      <th>Mult-Adds</th>\n",
              "    </tr>\n",
              "    <tr>\n",
              "      <th>Layer</th>\n",
              "      <th></th>\n",
              "      <th></th>\n",
              "      <th></th>\n",
              "      <th></th>\n",
              "    </tr>\n",
              "  </thead>\n",
              "  <tbody>\n",
              "    <tr>\n",
              "      <th>0_augmentations</th>\n",
              "      <td>-</td>\n",
              "      <td>[128, 2363, 27]</td>\n",
              "      <td>NaN</td>\n",
              "      <td>NaN</td>\n",
              "    </tr>\n",
              "    <tr>\n",
              "      <th>1_encoder.embedding.PermuteBlock_0</th>\n",
              "      <td>-</td>\n",
              "      <td>[128, 27, 2363]</td>\n",
              "      <td>NaN</td>\n",
              "      <td>NaN</td>\n",
              "    </tr>\n",
              "    <tr>\n",
              "      <th>2_encoder.embedding.Dropout1d_1</th>\n",
              "      <td>-</td>\n",
              "      <td>[128, 27, 2363]</td>\n",
              "      <td>NaN</td>\n",
              "      <td>NaN</td>\n",
              "    </tr>\n",
              "    <tr>\n",
              "      <th>3_encoder.embedding.Conv1d_2</th>\n",
              "      <td>[27, 108, 3]</td>\n",
              "      <td>[128, 108, 2363]</td>\n",
              "      <td>8856.0</td>\n",
              "      <td>20671524.0</td>\n",
              "    </tr>\n",
              "    <tr>\n",
              "      <th>4_encoder.embedding.BatchNorm1d_3</th>\n",
              "      <td>[108]</td>\n",
              "      <td>[128, 108, 2363]</td>\n",
              "      <td>216.0</td>\n",
              "      <td>108.0</td>\n",
              "    </tr>\n",
              "    <tr>\n",
              "      <th>5_encoder.embedding.GELU_4</th>\n",
              "      <td>-</td>\n",
              "      <td>[128, 108, 2363]</td>\n",
              "      <td>NaN</td>\n",
              "      <td>NaN</td>\n",
              "    </tr>\n",
              "    <tr>\n",
              "      <th>6_encoder.embedding.Dropout1d_5</th>\n",
              "      <td>-</td>\n",
              "      <td>[128, 108, 2363]</td>\n",
              "      <td>NaN</td>\n",
              "      <td>NaN</td>\n",
              "    </tr>\n",
              "    <tr>\n",
              "      <th>7_encoder.embedding.Conv1d_6</th>\n",
              "      <td>[108, 216, 3]</td>\n",
              "      <td>[128, 216, 2363]</td>\n",
              "      <td>70200.0</td>\n",
              "      <td>165372192.0</td>\n",
              "    </tr>\n",
              "    <tr>\n",
              "      <th>8_encoder.embedding.BatchNorm1d_7</th>\n",
              "      <td>[216]</td>\n",
              "      <td>[128, 216, 2363]</td>\n",
              "      <td>432.0</td>\n",
              "      <td>216.0</td>\n",
              "    </tr>\n",
              "    <tr>\n",
              "      <th>9_encoder.embedding.GELU_8</th>\n",
              "      <td>-</td>\n",
              "      <td>[128, 216, 2363]</td>\n",
              "      <td>NaN</td>\n",
              "      <td>NaN</td>\n",
              "    </tr>\n",
              "    <tr>\n",
              "      <th>10_encoder.embedding.Dropout1d_9</th>\n",
              "      <td>-</td>\n",
              "      <td>[128, 216, 2363]</td>\n",
              "      <td>NaN</td>\n",
              "      <td>NaN</td>\n",
              "    </tr>\n",
              "    <tr>\n",
              "      <th>11_encoder.embedding.Conv1d_10</th>\n",
              "      <td>[216, 54, 3]</td>\n",
              "      <td>[128, 54, 2363]</td>\n",
              "      <td>35046.0</td>\n",
              "      <td>82686096.0</td>\n",
              "    </tr>\n",
              "    <tr>\n",
              "      <th>12_encoder.embedding.BatchNorm1d_11</th>\n",
              "      <td>[54]</td>\n",
              "      <td>[128, 54, 2363]</td>\n",
              "      <td>108.0</td>\n",
              "      <td>54.0</td>\n",
              "    </tr>\n",
              "    <tr>\n",
              "      <th>13_encoder.embedding.GELU_12</th>\n",
              "      <td>-</td>\n",
              "      <td>[128, 54, 2363]</td>\n",
              "      <td>NaN</td>\n",
              "      <td>NaN</td>\n",
              "    </tr>\n",
              "    <tr>\n",
              "      <th>14_encoder.embedding.PermuteBlock_13</th>\n",
              "      <td>-</td>\n",
              "      <td>[128, 2363, 54]</td>\n",
              "      <td>NaN</td>\n",
              "      <td>NaN</td>\n",
              "    </tr>\n",
              "    <tr>\n",
              "      <th>15_encoder.pBLSTMs.0.LSTM_blstm</th>\n",
              "      <td>-</td>\n",
              "      <td>[55411, 384]</td>\n",
              "      <td>2239488.0</td>\n",
              "      <td>2230272.0</td>\n",
              "    </tr>\n",
              "    <tr>\n",
              "      <th>16_encoder.pBLSTMs.1.LSTM_blstm</th>\n",
              "      <td>-</td>\n",
              "      <td>[27677, 384]</td>\n",
              "      <td>3253248.0</td>\n",
              "      <td>3244032.0</td>\n",
              "    </tr>\n",
              "    <tr>\n",
              "      <th>17_decoder.mlp.Linear_0</th>\n",
              "      <td>[384, 1024]</td>\n",
              "      <td>[128, 590, 1024]</td>\n",
              "      <td>394240.0</td>\n",
              "      <td>393216.0</td>\n",
              "    </tr>\n",
              "    <tr>\n",
              "      <th>18_decoder.mlp.PermuteBlock_1</th>\n",
              "      <td>-</td>\n",
              "      <td>[128, 1024, 590]</td>\n",
              "      <td>NaN</td>\n",
              "      <td>NaN</td>\n",
              "    </tr>\n",
              "    <tr>\n",
              "      <th>19_decoder.mlp.BatchNorm1d_2</th>\n",
              "      <td>[1024]</td>\n",
              "      <td>[128, 1024, 590]</td>\n",
              "      <td>2048.0</td>\n",
              "      <td>1024.0</td>\n",
              "    </tr>\n",
              "    <tr>\n",
              "      <th>20_decoder.mlp.PermuteBlock_3</th>\n",
              "      <td>-</td>\n",
              "      <td>[128, 590, 1024]</td>\n",
              "      <td>NaN</td>\n",
              "      <td>NaN</td>\n",
              "    </tr>\n",
              "    <tr>\n",
              "      <th>21_decoder.mlp.Dropout1d_4</th>\n",
              "      <td>-</td>\n",
              "      <td>[128, 590, 1024]</td>\n",
              "      <td>NaN</td>\n",
              "      <td>NaN</td>\n",
              "    </tr>\n",
              "    <tr>\n",
              "      <th>22_decoder.mlp.Linear_5</th>\n",
              "      <td>[1024, 41]</td>\n",
              "      <td>[128, 590, 41]</td>\n",
              "      <td>42025.0</td>\n",
              "      <td>41984.0</td>\n",
              "    </tr>\n",
              "    <tr>\n",
              "      <th>23_decoder.mlp.PermuteBlock_6</th>\n",
              "      <td>-</td>\n",
              "      <td>[128, 41, 590]</td>\n",
              "      <td>NaN</td>\n",
              "      <td>NaN</td>\n",
              "    </tr>\n",
              "    <tr>\n",
              "      <th>24_decoder.mlp.BatchNorm1d_7</th>\n",
              "      <td>[41]</td>\n",
              "      <td>[128, 41, 590]</td>\n",
              "      <td>82.0</td>\n",
              "      <td>41.0</td>\n",
              "    </tr>\n",
              "    <tr>\n",
              "      <th>25_decoder.mlp.PermuteBlock_8</th>\n",
              "      <td>-</td>\n",
              "      <td>[128, 590, 41]</td>\n",
              "      <td>NaN</td>\n",
              "      <td>NaN</td>\n",
              "    </tr>\n",
              "    <tr>\n",
              "      <th>26_decoder.LogSoftmax_softmax</th>\n",
              "      <td>-</td>\n",
              "      <td>[128, 590, 41]</td>\n",
              "      <td>NaN</td>\n",
              "      <td>NaN</td>\n",
              "    </tr>\n",
              "  </tbody>\n",
              "</table>\n",
              "</div>\n",
              "    <div class=\"colab-df-buttons\">\n",
              "\n",
              "  <div class=\"colab-df-container\">\n",
              "    <button class=\"colab-df-convert\" onclick=\"convertToInteractive('df-405525a9-40dc-41ac-bdb5-29653e99df0a')\"\n",
              "            title=\"Convert this dataframe to an interactive table.\"\n",
              "            style=\"display:none;\">\n",
              "\n",
              "  <svg xmlns=\"http://www.w3.org/2000/svg\" height=\"24px\" viewBox=\"0 -960 960 960\">\n",
              "    <path d=\"M120-120v-720h720v720H120Zm60-500h600v-160H180v160Zm220 220h160v-160H400v160Zm0 220h160v-160H400v160ZM180-400h160v-160H180v160Zm440 0h160v-160H620v160ZM180-180h160v-160H180v160Zm440 0h160v-160H620v160Z\"/>\n",
              "  </svg>\n",
              "    </button>\n",
              "\n",
              "  <style>\n",
              "    .colab-df-container {\n",
              "      display:flex;\n",
              "      gap: 12px;\n",
              "    }\n",
              "\n",
              "    .colab-df-convert {\n",
              "      background-color: #E8F0FE;\n",
              "      border: none;\n",
              "      border-radius: 50%;\n",
              "      cursor: pointer;\n",
              "      display: none;\n",
              "      fill: #1967D2;\n",
              "      height: 32px;\n",
              "      padding: 0 0 0 0;\n",
              "      width: 32px;\n",
              "    }\n",
              "\n",
              "    .colab-df-convert:hover {\n",
              "      background-color: #E2EBFA;\n",
              "      box-shadow: 0px 1px 2px rgba(60, 64, 67, 0.3), 0px 1px 3px 1px rgba(60, 64, 67, 0.15);\n",
              "      fill: #174EA6;\n",
              "    }\n",
              "\n",
              "    .colab-df-buttons div {\n",
              "      margin-bottom: 4px;\n",
              "    }\n",
              "\n",
              "    [theme=dark] .colab-df-convert {\n",
              "      background-color: #3B4455;\n",
              "      fill: #D2E3FC;\n",
              "    }\n",
              "\n",
              "    [theme=dark] .colab-df-convert:hover {\n",
              "      background-color: #434B5C;\n",
              "      box-shadow: 0px 1px 3px 1px rgba(0, 0, 0, 0.15);\n",
              "      filter: drop-shadow(0px 1px 2px rgba(0, 0, 0, 0.3));\n",
              "      fill: #FFFFFF;\n",
              "    }\n",
              "  </style>\n",
              "\n",
              "    <script>\n",
              "      const buttonEl =\n",
              "        document.querySelector('#df-405525a9-40dc-41ac-bdb5-29653e99df0a button.colab-df-convert');\n",
              "      buttonEl.style.display =\n",
              "        google.colab.kernel.accessAllowed ? 'block' : 'none';\n",
              "\n",
              "      async function convertToInteractive(key) {\n",
              "        const element = document.querySelector('#df-405525a9-40dc-41ac-bdb5-29653e99df0a');\n",
              "        const dataTable =\n",
              "          await google.colab.kernel.invokeFunction('convertToInteractive',\n",
              "                                                    [key], {});\n",
              "        if (!dataTable) return;\n",
              "\n",
              "        const docLinkHtml = 'Like what you see? Visit the ' +\n",
              "          '<a target=\"_blank\" href=https://colab.research.google.com/notebooks/data_table.ipynb>data table notebook</a>'\n",
              "          + ' to learn more about interactive tables.';\n",
              "        element.innerHTML = '';\n",
              "        dataTable['output_type'] = 'display_data';\n",
              "        await google.colab.output.renderOutput(dataTable, element);\n",
              "        const docLink = document.createElement('div');\n",
              "        docLink.innerHTML = docLinkHtml;\n",
              "        element.appendChild(docLink);\n",
              "      }\n",
              "    </script>\n",
              "  </div>\n",
              "\n",
              "\n",
              "<div id=\"df-6a25c00c-0adf-474b-bafa-e7c893d8a271\">\n",
              "  <button class=\"colab-df-quickchart\" onclick=\"quickchart('df-6a25c00c-0adf-474b-bafa-e7c893d8a271')\"\n",
              "            title=\"Suggest charts\"\n",
              "            style=\"display:none;\">\n",
              "\n",
              "<svg xmlns=\"http://www.w3.org/2000/svg\" height=\"24px\"viewBox=\"0 0 24 24\"\n",
              "     width=\"24px\">\n",
              "    <g>\n",
              "        <path d=\"M19 3H5c-1.1 0-2 .9-2 2v14c0 1.1.9 2 2 2h14c1.1 0 2-.9 2-2V5c0-1.1-.9-2-2-2zM9 17H7v-7h2v7zm4 0h-2V7h2v10zm4 0h-2v-4h2v4z\"/>\n",
              "    </g>\n",
              "</svg>\n",
              "  </button>\n",
              "\n",
              "<style>\n",
              "  .colab-df-quickchart {\n",
              "      --bg-color: #E8F0FE;\n",
              "      --fill-color: #1967D2;\n",
              "      --hover-bg-color: #E2EBFA;\n",
              "      --hover-fill-color: #174EA6;\n",
              "      --disabled-fill-color: #AAA;\n",
              "      --disabled-bg-color: #DDD;\n",
              "  }\n",
              "\n",
              "  [theme=dark] .colab-df-quickchart {\n",
              "      --bg-color: #3B4455;\n",
              "      --fill-color: #D2E3FC;\n",
              "      --hover-bg-color: #434B5C;\n",
              "      --hover-fill-color: #FFFFFF;\n",
              "      --disabled-bg-color: #3B4455;\n",
              "      --disabled-fill-color: #666;\n",
              "  }\n",
              "\n",
              "  .colab-df-quickchart {\n",
              "    background-color: var(--bg-color);\n",
              "    border: none;\n",
              "    border-radius: 50%;\n",
              "    cursor: pointer;\n",
              "    display: none;\n",
              "    fill: var(--fill-color);\n",
              "    height: 32px;\n",
              "    padding: 0;\n",
              "    width: 32px;\n",
              "  }\n",
              "\n",
              "  .colab-df-quickchart:hover {\n",
              "    background-color: var(--hover-bg-color);\n",
              "    box-shadow: 0 1px 2px rgba(60, 64, 67, 0.3), 0 1px 3px 1px rgba(60, 64, 67, 0.15);\n",
              "    fill: var(--button-hover-fill-color);\n",
              "  }\n",
              "\n",
              "  .colab-df-quickchart-complete:disabled,\n",
              "  .colab-df-quickchart-complete:disabled:hover {\n",
              "    background-color: var(--disabled-bg-color);\n",
              "    fill: var(--disabled-fill-color);\n",
              "    box-shadow: none;\n",
              "  }\n",
              "\n",
              "  .colab-df-spinner {\n",
              "    border: 2px solid var(--fill-color);\n",
              "    border-color: transparent;\n",
              "    border-bottom-color: var(--fill-color);\n",
              "    animation:\n",
              "      spin 1s steps(1) infinite;\n",
              "  }\n",
              "\n",
              "  @keyframes spin {\n",
              "    0% {\n",
              "      border-color: transparent;\n",
              "      border-bottom-color: var(--fill-color);\n",
              "      border-left-color: var(--fill-color);\n",
              "    }\n",
              "    20% {\n",
              "      border-color: transparent;\n",
              "      border-left-color: var(--fill-color);\n",
              "      border-top-color: var(--fill-color);\n",
              "    }\n",
              "    30% {\n",
              "      border-color: transparent;\n",
              "      border-left-color: var(--fill-color);\n",
              "      border-top-color: var(--fill-color);\n",
              "      border-right-color: var(--fill-color);\n",
              "    }\n",
              "    40% {\n",
              "      border-color: transparent;\n",
              "      border-right-color: var(--fill-color);\n",
              "      border-top-color: var(--fill-color);\n",
              "    }\n",
              "    60% {\n",
              "      border-color: transparent;\n",
              "      border-right-color: var(--fill-color);\n",
              "    }\n",
              "    80% {\n",
              "      border-color: transparent;\n",
              "      border-right-color: var(--fill-color);\n",
              "      border-bottom-color: var(--fill-color);\n",
              "    }\n",
              "    90% {\n",
              "      border-color: transparent;\n",
              "      border-bottom-color: var(--fill-color);\n",
              "    }\n",
              "  }\n",
              "</style>\n",
              "\n",
              "  <script>\n",
              "    async function quickchart(key) {\n",
              "      const quickchartButtonEl =\n",
              "        document.querySelector('#' + key + ' button');\n",
              "      quickchartButtonEl.disabled = true;  // To prevent multiple clicks.\n",
              "      quickchartButtonEl.classList.add('colab-df-spinner');\n",
              "      try {\n",
              "        const charts = await google.colab.kernel.invokeFunction(\n",
              "            'suggestCharts', [key], {});\n",
              "      } catch (error) {\n",
              "        console.error('Error during call to suggestCharts:', error);\n",
              "      }\n",
              "      quickchartButtonEl.classList.remove('colab-df-spinner');\n",
              "      quickchartButtonEl.classList.add('colab-df-quickchart-complete');\n",
              "    }\n",
              "    (() => {\n",
              "      let quickchartButtonEl =\n",
              "        document.querySelector('#df-6a25c00c-0adf-474b-bafa-e7c893d8a271 button');\n",
              "      quickchartButtonEl.style.display =\n",
              "        google.colab.kernel.accessAllowed ? 'block' : 'none';\n",
              "    })();\n",
              "  </script>\n",
              "</div>\n",
              "\n",
              "    </div>\n",
              "  </div>\n"
            ],
            "text/plain": [
              "                                       Kernel Shape      Output Shape  \\\n",
              "Layer                                                                   \n",
              "0_augmentations                                   -   [128, 2363, 27]   \n",
              "1_encoder.embedding.PermuteBlock_0                -   [128, 27, 2363]   \n",
              "2_encoder.embedding.Dropout1d_1                   -   [128, 27, 2363]   \n",
              "3_encoder.embedding.Conv1d_2           [27, 108, 3]  [128, 108, 2363]   \n",
              "4_encoder.embedding.BatchNorm1d_3             [108]  [128, 108, 2363]   \n",
              "5_encoder.embedding.GELU_4                        -  [128, 108, 2363]   \n",
              "6_encoder.embedding.Dropout1d_5                   -  [128, 108, 2363]   \n",
              "7_encoder.embedding.Conv1d_6          [108, 216, 3]  [128, 216, 2363]   \n",
              "8_encoder.embedding.BatchNorm1d_7             [216]  [128, 216, 2363]   \n",
              "9_encoder.embedding.GELU_8                        -  [128, 216, 2363]   \n",
              "10_encoder.embedding.Dropout1d_9                  -  [128, 216, 2363]   \n",
              "11_encoder.embedding.Conv1d_10         [216, 54, 3]   [128, 54, 2363]   \n",
              "12_encoder.embedding.BatchNorm1d_11            [54]   [128, 54, 2363]   \n",
              "13_encoder.embedding.GELU_12                      -   [128, 54, 2363]   \n",
              "14_encoder.embedding.PermuteBlock_13              -   [128, 2363, 54]   \n",
              "15_encoder.pBLSTMs.0.LSTM_blstm                   -      [55411, 384]   \n",
              "16_encoder.pBLSTMs.1.LSTM_blstm                   -      [27677, 384]   \n",
              "17_decoder.mlp.Linear_0                 [384, 1024]  [128, 590, 1024]   \n",
              "18_decoder.mlp.PermuteBlock_1                     -  [128, 1024, 590]   \n",
              "19_decoder.mlp.BatchNorm1d_2                 [1024]  [128, 1024, 590]   \n",
              "20_decoder.mlp.PermuteBlock_3                     -  [128, 590, 1024]   \n",
              "21_decoder.mlp.Dropout1d_4                        -  [128, 590, 1024]   \n",
              "22_decoder.mlp.Linear_5                  [1024, 41]    [128, 590, 41]   \n",
              "23_decoder.mlp.PermuteBlock_6                     -    [128, 41, 590]   \n",
              "24_decoder.mlp.BatchNorm1d_7                   [41]    [128, 41, 590]   \n",
              "25_decoder.mlp.PermuteBlock_8                     -    [128, 590, 41]   \n",
              "26_decoder.LogSoftmax_softmax                     -    [128, 590, 41]   \n",
              "\n",
              "                                         Params    Mult-Adds  \n",
              "Layer                                                         \n",
              "0_augmentations                             NaN          NaN  \n",
              "1_encoder.embedding.PermuteBlock_0          NaN          NaN  \n",
              "2_encoder.embedding.Dropout1d_1             NaN          NaN  \n",
              "3_encoder.embedding.Conv1d_2             8856.0   20671524.0  \n",
              "4_encoder.embedding.BatchNorm1d_3         216.0        108.0  \n",
              "5_encoder.embedding.GELU_4                  NaN          NaN  \n",
              "6_encoder.embedding.Dropout1d_5             NaN          NaN  \n",
              "7_encoder.embedding.Conv1d_6            70200.0  165372192.0  \n",
              "8_encoder.embedding.BatchNorm1d_7         432.0        216.0  \n",
              "9_encoder.embedding.GELU_8                  NaN          NaN  \n",
              "10_encoder.embedding.Dropout1d_9            NaN          NaN  \n",
              "11_encoder.embedding.Conv1d_10          35046.0   82686096.0  \n",
              "12_encoder.embedding.BatchNorm1d_11       108.0         54.0  \n",
              "13_encoder.embedding.GELU_12                NaN          NaN  \n",
              "14_encoder.embedding.PermuteBlock_13        NaN          NaN  \n",
              "15_encoder.pBLSTMs.0.LSTM_blstm       2239488.0    2230272.0  \n",
              "16_encoder.pBLSTMs.1.LSTM_blstm       3253248.0    3244032.0  \n",
              "17_decoder.mlp.Linear_0                394240.0     393216.0  \n",
              "18_decoder.mlp.PermuteBlock_1               NaN          NaN  \n",
              "19_decoder.mlp.BatchNorm1d_2             2048.0       1024.0  \n",
              "20_decoder.mlp.PermuteBlock_3               NaN          NaN  \n",
              "21_decoder.mlp.Dropout1d_4                  NaN          NaN  \n",
              "22_decoder.mlp.Linear_5                 42025.0      41984.0  \n",
              "23_decoder.mlp.PermuteBlock_6               NaN          NaN  \n",
              "24_decoder.mlp.BatchNorm1d_7               82.0         41.0  \n",
              "25_decoder.mlp.PermuteBlock_8               NaN          NaN  \n",
              "26_decoder.LogSoftmax_softmax               NaN          NaN  "
            ]
          },
          "execution_count": 25,
          "metadata": {},
          "output_type": "execute_result"
        }
      ],
      "source": [
        "import torchaudio\n",
        "model = ASRModel(\n",
        "    input_size  = 27,\n",
        "    embed_size  = 192,\n",
        "    output_size = len(PHONEMES)\n",
        ").to(device)\n",
        "print(model)\n",
        "summary(model, x.to(device), lx)"
      ]
    },
    {
      "cell_type": "markdown",
      "metadata": {
        "id": "IBwunYpyugFg"
      },
      "source": [
        "# Training Config\n",
        "Initialize Loss Criterion, Optimizer, CTC Beam Decoder, Scheduler, Scaler (Mixed-Precision), etc."
      ]
    },
    {
      "cell_type": "code",
      "execution_count": null,
      "metadata": {
        "id": "iGoozH2nd6KB"
      },
      "outputs": [],
      "source": [
        "#TODO\n",
        "from torch.optim.lr_scheduler import ReduceLROnPlateau\n",
        "from torch.optim import AdamW\n",
        "from ctcdecode import CTCBeamDecoder\n",
        "\n",
        "\n",
        "criterion = torch.nn.CTCLoss(blank=0, reduction='mean', zero_infinity=False) # Define CTC loss as the criterion. How would the losses be reduced?\n",
        "# CTC Loss: https://pytorch.org/docs/stable/generated/torch.nn.CTCLoss.html\n",
        "# Refer to the handout for hints\n",
        "\n",
        "optimizer =  torch.optim.AdamW(model.parameters(), lr=config['lr'], weight_decay=config['weight_decay']) # What goes in here?\n",
        "\n",
        "# Declare the decoder. Use the CTC Beam Decoder to decode phonemes\n",
        "# CTC Beam Decoder Doc: https://github.com/parlance/ctcdecode\n",
        "decoder = CTCBeamDecoder(labels=PHONEMES,\n",
        "                         model_path=None,\n",
        "                         alpha=0,\n",
        "                         beta=0,\n",
        "                         cutoff_top_n=40,\n",
        "                         cutoff_prob=1.0,\n",
        "                         beam_width=config[\"beam_width\"],\n",
        "                         num_processes=4,\n",
        "                         blank_id=0,\n",
        "                         log_probs_input=True)#TODO\n",
        "\n",
        "scheduler = ReduceLROnPlateau(optimizer, mode='max', threshold=1e-3, threshold_mode='rel', patience=5, factor = 0.2)#TODO\n",
        "\n",
        "# Mixed Precision, if you need it\n",
        "scaler = torch.cuda.amp.GradScaler()"
      ]
    },
    {
      "cell_type": "markdown",
      "metadata": {
        "id": "Jmc6_4eWL2Xp"
      },
      "source": [
        "# Decode Prediction"
      ]
    },
    {
      "cell_type": "code",
      "execution_count": null,
      "metadata": {
        "id": "KHjnCDddL36E"
      },
      "outputs": [],
      "source": [
        "def decode_prediction(output, output_lens, decoder, PHONEME_MAP= LABELS):\n",
        "\n",
        "    # TODO: look at docs for CTC.decoder and find out what is returned here. Check the shape of output and expected shape in decode.\n",
        "    beam_results, _, _, out_seq_len = decoder.decode(output, seq_lens= output_lens) #lengths - list of lengths\n",
        "\n",
        "    pred_strings                    = []\n",
        "\n",
        "    for i in range(beam_results.shape[0]):\n",
        "        #TODO: Create the prediction from the output of decoder.decode. Don't forget to map it using PHONEMES_MAP.\n",
        "        pred = beam_results[i][0][:out_seq_len[i][0]]  # Take most probable result (1st beam)\n",
        "        pred_str = ''.join([PHONEME_MAP[p] for p in pred])\n",
        "        pred_strings.append(pred_str)\n",
        "    return pred_strings\n",
        "\n",
        "def calculate_levenshtein(output, label, output_lens, label_lens, decoder, PHONEME_MAP= LABELS): # y - sequence of integers\n",
        "\n",
        "    dist            = 0\n",
        "    batch_size      = label.shape[0]\n",
        "\n",
        "    pred_strings    = decode_prediction(output, output_lens, decoder, PHONEME_MAP)\n",
        "\n",
        "    for i in range(batch_size):\n",
        "        # TODO: Get predicted string and label string for each element in the batch\n",
        "        pred_string = pred_strings[i]#TODO\n",
        "        label_string = ''.join([PHONEME_MAP[p] for p in label[i][:label_lens[i]]])#TODO\n",
        "        dist += Levenshtein.distance(pred_string, label_string)\n",
        "\n",
        "    dist /= batch_size # TODO: Uncomment this, but think about why we are doing this\n",
        "    # raise NotImplemented\n",
        "    return dist"
      ]
    },
    {
      "cell_type": "markdown",
      "metadata": {
        "id": "0Qk9iZud1LXT"
      },
      "source": [
        "# Test Implementation"
      ]
    },
    {
      "cell_type": "code",
      "execution_count": null,
      "metadata": {
        "id": "GnTLL-5gMBrY"
      },
      "outputs": [],
      "source": [
        "# # test code to check shapes\n",
        "\n",
        "# model.eval()\n",
        "# for i, data in enumerate(val_loader, 0):\n",
        "#     x, y, lx, ly = data\n",
        "#     x, y = x.to(device), y.to(device)\n",
        "#     h, lh = model(x, lx)\n",
        "#     print(f'hshape {h.shape}')\n",
        "#     h = torch.permute(h, (1, 0, 2))\n",
        "#     print(f'hshape yshape {h.shape}, {y.shape}')\n",
        "#     loss = criterion(h, y, lh, ly)\n",
        "#     print(loss)\n",
        "\n",
        "#     print(calculate_levenshtein(h, y, lx, ly, decoder, LABELS))\n",
        "\n",
        "#     break"
      ]
    },
    {
      "cell_type": "markdown",
      "metadata": {
        "id": "rd5aNaLVoR_g"
      },
      "source": [
        "# WandB\n",
        "\n",
        "You will need to fetch your api key from wandb.ai"
      ]
    },
    {
      "cell_type": "code",
      "execution_count": null,
      "metadata": {
        "colab": {
          "base_uri": "https://localhost:8080/"
        },
        "id": "PiDduMaDIARE",
        "outputId": "318be3f3-effe-47e7-daa6-41cbb03fcac0"
      },
      "outputs": [
        {
          "name": "stderr",
          "output_type": "stream",
          "text": [
            "\u001b[34m\u001b[1mwandb\u001b[0m: W&B API key is configured. Use \u001b[1m`wandb login --relogin`\u001b[0m to force relogin\n",
            "\u001b[34m\u001b[1mwandb\u001b[0m: \u001b[33mWARNING\u001b[0m If you're specifying your api key in code, ensure this code is not shared publicly.\n",
            "\u001b[34m\u001b[1mwandb\u001b[0m: \u001b[33mWARNING\u001b[0m Consider setting the WANDB_API_KEY environment variable, or running `wandb login` from the command line.\n",
            "\u001b[34m\u001b[1mwandb\u001b[0m: Appending key for api.wandb.ai to your netrc file: /root/.netrc\n"
          ]
        },
        {
          "data": {
            "text/plain": [
              "True"
            ]
          },
          "execution_count": 29,
          "metadata": {},
          "output_type": "execute_result"
        }
      ],
      "source": [
        "import wandb\n",
        "wandb.login(key=\"f1ddfb597f3aa8c29d178a8df8d836349a961d46\")"
      ]
    },
    {
      "cell_type": "code",
      "execution_count": null,
      "metadata": {
        "colab": {
          "base_uri": "https://localhost:8080/",
          "height": 115
        },
        "id": "4s52yBOvICPZ",
        "outputId": "4616b358-258f-41df-efba-f27c34db0e53"
      },
      "outputs": [
        {
          "name": "stderr",
          "output_type": "stream",
          "text": [
            "\u001b[34m\u001b[1mwandb\u001b[0m: Currently logged in as: \u001b[33malicele2710\u001b[0m (\u001b[33malicele27\u001b[0m). Use \u001b[1m`wandb login --relogin`\u001b[0m to force relogin\n"
          ]
        },
        {
          "data": {
            "text/html": [
              "Tracking run with wandb version 0.16.5"
            ],
            "text/plain": [
              "<IPython.core.display.HTML object>"
            ]
          },
          "metadata": {},
          "output_type": "display_data"
        },
        {
          "data": {
            "text/html": [
              "Run data is saved locally in <code>/content/wandb/run-20240402_010047-0dieb1td</code>"
            ],
            "text/plain": [
              "<IPython.core.display.HTML object>"
            ]
          },
          "metadata": {},
          "output_type": "display_data"
        },
        {
          "data": {
            "text/html": [
              "Syncing run <strong><a href='https://wandb.ai/alicele27/hw3p2-ablations/runs/0dieb1td/workspace' target=\"_blank\">ablation 5</a></strong> to <a href='https://wandb.ai/alicele27/hw3p2-ablations' target=\"_blank\">Weights & Biases</a> (<a href='https://wandb.me/run' target=\"_blank\">docs</a>)<br/>"
            ],
            "text/plain": [
              "<IPython.core.display.HTML object>"
            ]
          },
          "metadata": {},
          "output_type": "display_data"
        },
        {
          "data": {
            "text/html": [
              " View project at <a href='https://wandb.ai/alicele27/hw3p2-ablations' target=\"_blank\">https://wandb.ai/alicele27/hw3p2-ablations</a>"
            ],
            "text/plain": [
              "<IPython.core.display.HTML object>"
            ]
          },
          "metadata": {},
          "output_type": "display_data"
        },
        {
          "data": {
            "text/html": [
              " View run at <a href='https://wandb.ai/alicele27/hw3p2-ablations/runs/0dieb1td/workspace' target=\"_blank\">https://wandb.ai/alicele27/hw3p2-ablations/runs/0dieb1td/workspace</a>"
            ],
            "text/plain": [
              "<IPython.core.display.HTML object>"
            ]
          },
          "metadata": {},
          "output_type": "display_data"
        }
      ],
      "source": [
        "run = wandb.init(\n",
        "    name = \"ablation 5\", ## Wandb creates random run names if you skip this field\n",
        "    reinit = True, ### Allows reinitalizing runs when you re-run this cell\n",
        "    # run_id = ### Insert specific run id here if you want to resume a previous run\n",
        "    # resume = \"must\" ### You need this to resume previous runs, but comment out reinit = True when using this\n",
        "    project = \"hw3p2-ablations\", ### Project should be created in your wandb account\n",
        "    config = config ### Wandb Config for your run\n",
        ")"
      ]
    },
    {
      "cell_type": "markdown",
      "metadata": {
        "id": "6fLLj5KIMMOe"
      },
      "source": [
        "# Train Functions"
      ]
    },
    {
      "cell_type": "code",
      "execution_count": null,
      "metadata": {
        "id": "ri87MAdhMUz5"
      },
      "outputs": [],
      "source": [
        "from tqdm import tqdm\n",
        "\n",
        "def train_model(model, train_loader, criterion, optimizer):\n",
        "\n",
        "    model.train()\n",
        "    batch_bar = tqdm(total=len(train_loader), dynamic_ncols=True, leave=False, position=0, desc='Train')\n",
        "\n",
        "    total_loss = 0\n",
        "\n",
        "    for i, data in enumerate(train_loader):\n",
        "        optimizer.zero_grad()\n",
        "\n",
        "        x, y, lx, ly = data\n",
        "        x, y = x.to(device), y.to(device)\n",
        "\n",
        "        with torch.cuda.amp.autocast():\n",
        "            h, lh = model(x, lx)\n",
        "            h = torch.permute(h, (1, 0, 2))\n",
        "            loss = criterion(h, y, lh, ly)\n",
        "\n",
        "        total_loss += loss.item()\n",
        "\n",
        "        batch_bar.set_postfix(\n",
        "            loss=\"{:.04f}\".format(float(total_loss / (i + 1))),\n",
        "            lr=\"{:.06f}\".format(float(optimizer.param_groups[0]['lr'])))\n",
        "\n",
        "        batch_bar.update() # Update tqdm bar\n",
        "\n",
        "        # Another couple things you need for FP16.\n",
        "        scaler.scale(loss).backward() # This is a replacement for loss.backward()\n",
        "        scaler.step(optimizer) # This is a replacement for optimizer.step()\n",
        "        scaler.update() # This is something added just for FP16\n",
        "\n",
        "        del x, y, lx, ly, h, lh, loss\n",
        "        torch.cuda.empty_cache()\n",
        "\n",
        "    batch_bar.close() # You need this to close the tqdm bar\n",
        "\n",
        "    return total_loss / len(train_loader)\n",
        "\n",
        "\n",
        "def validate_model(model, val_loader, decoder, phoneme_map= LABELS):\n",
        "\n",
        "    model.eval()\n",
        "    batch_bar = tqdm(total=len(val_loader), dynamic_ncols=True, position=0, leave=False, desc='Val')\n",
        "\n",
        "    total_loss = 0\n",
        "    vdist = 0\n",
        "\n",
        "    for i, data in enumerate(val_loader):\n",
        "\n",
        "        x, y, lx, ly = data\n",
        "        x, y = x.to(device), y.to(device)\n",
        "\n",
        "        with torch.inference_mode():\n",
        "            h, lh = model(x, lx)\n",
        "            h = torch.permute(h, (1, 0, 2))\n",
        "            loss = criterion(h, y, lh, ly)\n",
        "\n",
        "        total_loss += float(loss)\n",
        "        vdist += calculate_levenshtein(torch.permute(h, (1, 0, 2)), y, lh, ly, decoder, phoneme_map)\n",
        "\n",
        "        batch_bar.set_postfix(loss=\"{:.04f}\".format(float(total_loss / (i + 1))), dist=\"{:.04f}\".format(float(vdist / (i + 1))))\n",
        "\n",
        "        batch_bar.update()\n",
        "\n",
        "        del x, y, lx, ly, h, lh, loss\n",
        "        torch.cuda.empty_cache()\n",
        "\n",
        "    batch_bar.close()\n",
        "    total_loss = total_loss/len(val_loader)\n",
        "    val_dist = vdist/len(val_loader)\n",
        "    return total_loss, val_dist"
      ]
    },
    {
      "cell_type": "markdown",
      "metadata": {
        "id": "qpYExu4vT4_g"
      },
      "source": [
        "## Training Setup"
      ]
    },
    {
      "cell_type": "code",
      "execution_count": null,
      "metadata": {
        "id": "husa5_EYMUz6"
      },
      "outputs": [],
      "source": [
        "def save_model(model, optimizer, scheduler, metric, epoch, path):\n",
        "    torch.save(\n",
        "        {'model_state_dict'         : model.state_dict(),\n",
        "         'optimizer_state_dict'     : optimizer.state_dict(),\n",
        "         'scheduler_state_dict'     : scheduler.state_dict(),\n",
        "         metric[0]                  : metric[1],\n",
        "         'epoch'                    : epoch},\n",
        "         path\n",
        "    )\n",
        "\n",
        "def load_model(path, model, metric= 'valid_acc', optimizer= None, scheduler= None):\n",
        "\n",
        "    checkpoint = torch.load(path)\n",
        "    model.load_state_dict(checkpoint['model_state_dict'])\n",
        "\n",
        "    if optimizer != None:\n",
        "        optimizer.load_state_dict(checkpoint['optimizer_state_dict'])\n",
        "    if scheduler != None:\n",
        "        scheduler.load_state_dict(checkpoint['scheduler_state_dict'])\n",
        "\n",
        "    epoch   = checkpoint['epoch']\n",
        "    metric  = checkpoint[metric]\n",
        "\n",
        "    return [model, optimizer, scheduler, epoch, metric]"
      ]
    },
    {
      "cell_type": "code",
      "execution_count": null,
      "metadata": {
        "id": "tExvyl1BIdMC"
      },
      "outputs": [],
      "source": [
        "# This is for checkpointing, if you're doing it over multiple sessions\n",
        "\n",
        "last_epoch_completed = 0\n",
        "start = last_epoch_completed\n",
        "end = config[\"epochs\"]\n",
        "best_lev_dist = float(\"inf\") # if you're restarting from some checkpoint, use what you saw there.\n",
        "# epoch_model_path = #TODO set the model path( Optional, you can just store best one. Make sure to make the changes below )\n",
        "# best_model_path = #TODO set best model path\n",
        "\n",
        "# Always keep the path for the best model to ensure you can retrieve the best performing model\n",
        "best_model_path =\"/content/best_model_hw3.pth\"\n"
      ]
    },
    {
      "cell_type": "code",
      "execution_count": null,
      "metadata": {
        "colab": {
          "background_save": true,
          "base_uri": "https://localhost:8080/",
          "referenced_widgets": [
            "e239dc6915994ad088058719f68acd06"
          ]
        },
        "id": "JR43E28rM9Ak",
        "outputId": "eefcf29b-0155-4521-fad3-94114f52664d"
      },
      "outputs": [
        {
          "name": "stdout",
          "output_type": "stream",
          "text": [
            "\n",
            "Epoch: 1/40\n"
          ]
        },
        {
          "name": "stderr",
          "output_type": "stream",
          "text": [
            "\u001b[34m\u001b[1mwandb\u001b[0m: \u001b[33mWARNING\u001b[0m Saving files without folders. If you want to preserve subdirectories pass base_path to wandb.save, i.e. wandb.save(\"/mnt/folder/file.h5\", base_path=\"/mnt\")\n"
          ]
        },
        {
          "name": "stdout",
          "output_type": "stream",
          "text": [
            "\tTrain Loss 4.3655\t Learning Rate 0.0020000\n",
            "\tVal Dist 66.4590%\t Val Loss 3.6420\n",
            "Saved best model\n",
            "\n",
            "Epoch: 2/40\n"
          ]
        },
        {
          "name": "stderr",
          "output_type": "stream",
          "text": [
            ""
          ]
        },
        {
          "name": "stdout",
          "output_type": "stream",
          "text": [
            "\tTrain Loss 3.7067\t Learning Rate 0.0020000\n",
            "\tVal Dist 66.0321%\t Val Loss 3.4735\n",
            "Saved best model\n",
            "\n",
            "Epoch: 3/40\n"
          ]
        },
        {
          "name": "stderr",
          "output_type": "stream",
          "text": [
            ""
          ]
        },
        {
          "name": "stdout",
          "output_type": "stream",
          "text": [
            "\tTrain Loss 3.4236\t Learning Rate 0.0020000\n",
            "\tVal Dist 63.2707%\t Val Loss 3.2493\n",
            "Saved best model\n",
            "\n",
            "Epoch: 4/40\n"
          ]
        },
        {
          "name": "stderr",
          "output_type": "stream",
          "text": [
            ""
          ]
        },
        {
          "name": "stdout",
          "output_type": "stream",
          "text": [
            "\tTrain Loss 3.2474\t Learning Rate 0.0020000\n",
            "\tVal Dist 59.6504%\t Val Loss 2.7818\n",
            "Saved best model\n",
            "\n",
            "Epoch: 5/40\n"
          ]
        },
        {
          "name": "stderr",
          "output_type": "stream",
          "text": [
            ""
          ]
        },
        {
          "name": "stdout",
          "output_type": "stream",
          "text": [
            "\tTrain Loss 2.1775\t Learning Rate 0.0020000\n",
            "\tVal Dist 22.9901%\t Val Loss 1.2161\n",
            "Saved best model\n",
            "\n",
            "Epoch: 6/40\n"
          ]
        },
        {
          "name": "stderr",
          "output_type": "stream",
          "text": [
            ""
          ]
        },
        {
          "name": "stdout",
          "output_type": "stream",
          "text": [
            "\tTrain Loss 1.2014\t Learning Rate 0.0020000\n",
            "\tVal Dist 14.8591%\t Val Loss 0.8299\n",
            "Saved best model\n",
            "\n",
            "Epoch: 7/40\n"
          ]
        },
        {
          "name": "stderr",
          "output_type": "stream",
          "text": [
            ""
          ]
        },
        {
          "name": "stdout",
          "output_type": "stream",
          "text": [
            "\tTrain Loss 0.9407\t Learning Rate 0.0020000\n",
            "\tVal Dist 11.9924%\t Val Loss 0.6782\n",
            "Saved best model\n",
            "\n",
            "Epoch: 8/40\n"
          ]
        },
        {
          "name": "stderr",
          "output_type": "stream",
          "text": [
            ""
          ]
        },
        {
          "name": "stdout",
          "output_type": "stream",
          "text": [
            "\tTrain Loss 0.7782\t Learning Rate 0.0004000\n",
            "\tVal Dist 10.2609%\t Val Loss 0.5969\n",
            "Saved best model\n",
            "\n",
            "Epoch: 9/40\n"
          ]
        },
        {
          "name": "stderr",
          "output_type": "stream",
          "text": [
            ""
          ]
        },
        {
          "name": "stdout",
          "output_type": "stream",
          "text": [
            "\tTrain Loss 0.7410\t Learning Rate 0.0004000\n",
            "\tVal Dist 9.9353%\t Val Loss 0.5730\n",
            "Saved best model\n",
            "\n",
            "Epoch: 10/40\n"
          ]
        },
        {
          "name": "stderr",
          "output_type": "stream",
          "text": [
            ""
          ]
        },
        {
          "name": "stdout",
          "output_type": "stream",
          "text": [
            "\tTrain Loss 0.7131\t Learning Rate 0.0004000\n",
            "\tVal Dist 9.4010%\t Val Loss 0.5561\n",
            "Saved best model\n",
            "\n",
            "Epoch: 11/40\n"
          ]
        },
        {
          "name": "stderr",
          "output_type": "stream",
          "text": [
            ""
          ]
        },
        {
          "name": "stdout",
          "output_type": "stream",
          "text": [
            "\tTrain Loss 0.6892\t Learning Rate 0.0004000\n",
            "\tVal Dist 9.3230%\t Val Loss 0.5390\n",
            "Saved best model\n",
            "\n",
            "Epoch: 12/40\n"
          ]
        },
        {
          "name": "stderr",
          "output_type": "stream",
          "text": [
            ""
          ]
        },
        {
          "name": "stdout",
          "output_type": "stream",
          "text": [
            "\tTrain Loss 0.6698\t Learning Rate 0.0004000\n",
            "\tVal Dist 8.9432%\t Val Loss 0.5193\n",
            "Saved best model\n",
            "\n",
            "Epoch: 13/40\n"
          ]
        },
        {
          "name": "stderr",
          "output_type": "stream",
          "text": [
            ""
          ]
        },
        {
          "name": "stdout",
          "output_type": "stream",
          "text": [
            "\tTrain Loss 0.6498\t Learning Rate 0.0004000\n",
            "\tVal Dist 8.6751%\t Val Loss 0.5129\n",
            "Saved best model\n",
            "\n",
            "Epoch: 14/40\n"
          ]
        },
        {
          "name": "stderr",
          "output_type": "stream",
          "text": [
            ""
          ]
        },
        {
          "name": "stdout",
          "output_type": "stream",
          "text": [
            "\tTrain Loss 0.6191\t Learning Rate 0.0000800\n",
            "\tVal Dist 8.3957%\t Val Loss 0.4958\n",
            "Saved best model\n",
            "\n",
            "Epoch: 15/40\n"
          ]
        },
        {
          "name": "stderr",
          "output_type": "stream",
          "text": [
            ""
          ]
        },
        {
          "name": "stdout",
          "output_type": "stream",
          "text": [
            "\tTrain Loss 0.6127\t Learning Rate 0.0000800\n",
            "\tVal Dist 8.3594%\t Val Loss 0.4876\n",
            "Saved best model\n",
            "\n",
            "Epoch: 16/40\n"
          ]
        },
        {
          "name": "stderr",
          "output_type": "stream",
          "text": [
            ""
          ]
        },
        {
          "name": "stdout",
          "output_type": "stream",
          "text": [
            "\tTrain Loss 0.6064\t Learning Rate 0.0000800\n",
            "\tVal Dist 8.2731%\t Val Loss 0.4852\n",
            "Saved best model\n",
            "\n",
            "Epoch: 17/40\n"
          ]
        },
        {
          "name": "stderr",
          "output_type": "stream",
          "text": [
            ""
          ]
        },
        {
          "name": "stdout",
          "output_type": "stream",
          "text": [
            "\tTrain Loss 0.6032\t Learning Rate 0.0000800\n",
            "\tVal Dist 8.2613%\t Val Loss 0.4880\n",
            "Saved best model\n",
            "\n",
            "Epoch: 18/40\n"
          ]
        },
        {
          "name": "stderr",
          "output_type": "stream",
          "text": [
            ""
          ]
        },
        {
          "name": "stdout",
          "output_type": "stream",
          "text": [
            "\tTrain Loss 0.5979\t Learning Rate 0.0000800\n",
            "\tVal Dist 8.2329%\t Val Loss 0.4817\n",
            "Saved best model\n",
            "\n",
            "Epoch: 19/40\n"
          ]
        },
        {
          "name": "stderr",
          "output_type": "stream",
          "text": [
            ""
          ]
        },
        {
          "name": "stdout",
          "output_type": "stream",
          "text": [
            "\tTrain Loss 0.5932\t Learning Rate 0.0000800\n",
            "\tVal Dist 8.2025%\t Val Loss 0.4772\n",
            "Saved best model\n",
            "\n",
            "Epoch: 20/40\n"
          ]
        },
        {
          "name": "stderr",
          "output_type": "stream",
          "text": [
            ""
          ]
        },
        {
          "name": "stdout",
          "output_type": "stream",
          "text": [
            "\tTrain Loss 0.5878\t Learning Rate 0.0000160\n",
            "\tVal Dist 8.1512%\t Val Loss 0.4758\n",
            "Saved best model\n",
            "\n",
            "Epoch: 21/40\n"
          ]
        },
        {
          "name": "stderr",
          "output_type": "stream",
          "text": [
            ""
          ]
        },
        {
          "name": "stdout",
          "output_type": "stream",
          "text": [
            "\tTrain Loss 0.5868\t Learning Rate 0.0000160\n",
            "\tVal Dist 8.1109%\t Val Loss 0.4757\n",
            "Saved best model\n",
            "\n",
            "Epoch: 22/40\n"
          ]
        },
        {
          "name": "stderr",
          "output_type": "stream",
          "text": [
            ""
          ]
        },
        {
          "name": "stdout",
          "output_type": "stream",
          "text": [
            "\tTrain Loss 0.5858\t Learning Rate 0.0000160\n",
            "\tVal Dist 8.1044%\t Val Loss 0.4762\n",
            "Saved best model\n",
            "\n",
            "Epoch: 23/40\n"
          ]
        },
        {
          "name": "stderr",
          "output_type": "stream",
          "text": [
            ""
          ]
        },
        {
          "name": "stdout",
          "output_type": "stream",
          "text": [
            "\tTrain Loss 0.5843\t Learning Rate 0.0000160\n",
            "\tVal Dist 8.0970%\t Val Loss 0.4742\n",
            "Saved best model\n",
            "\n",
            "Epoch: 24/40\n"
          ]
        },
        {
          "name": "stderr",
          "output_type": "stream",
          "text": [
            ""
          ]
        },
        {
          "name": "stdout",
          "output_type": "stream",
          "text": [
            "\tTrain Loss 0.5837\t Learning Rate 0.0000160\n",
            "\tVal Dist 8.0923%\t Val Loss 0.4766\n",
            "Saved best model\n",
            "\n",
            "Epoch: 25/40\n"
          ]
        },
        {
          "name": "stderr",
          "output_type": "stream",
          "text": [
            ""
          ]
        },
        {
          "name": "stdout",
          "output_type": "stream",
          "text": [
            "\tTrain Loss 0.5821\t Learning Rate 0.0000160\n",
            "\tVal Dist 8.0878%\t Val Loss 0.4716\n",
            "Saved best model\n",
            "\n",
            "Epoch: 26/40\n"
          ]
        },
        {
          "name": "stderr",
          "output_type": "stream",
          "text": [
            ""
          ]
        },
        {
          "name": "stdout",
          "output_type": "stream",
          "text": [
            "\tTrain Loss 0.5809\t Learning Rate 0.0000032\n",
            "\tVal Dist 8.0637%\t Val Loss 0.4749\n",
            "Saved best model\n",
            "\n",
            "Epoch: 27/40\n"
          ]
        },
        {
          "name": "stderr",
          "output_type": "stream",
          "text": [
            ""
          ]
        },
        {
          "name": "stdout",
          "output_type": "stream",
          "text": [
            "\tTrain Loss 0.5802\t Learning Rate 0.0000032\n",
            "\tVal Dist 8.0688%\t Val Loss 0.4739\n",
            "\n",
            "Epoch: 28/40\n"
          ]
        },
        {
          "name": "stderr",
          "output_type": "stream",
          "text": [
            ""
          ]
        },
        {
          "name": "stdout",
          "output_type": "stream",
          "text": [
            "\tTrain Loss 0.5815\t Learning Rate 0.0000032\n",
            "\tVal Dist 8.0542%\t Val Loss 0.4724\n",
            "Saved best model\n",
            "\n",
            "Epoch: 29/40\n"
          ]
        },
        {
          "name": "stderr",
          "output_type": "stream",
          "text": [
            ""
          ]
        },
        {
          "name": "stdout",
          "output_type": "stream",
          "text": [
            "\tTrain Loss 0.5804\t Learning Rate 0.0000032\n",
            "\tVal Dist 8.0786%\t Val Loss 0.4721\n",
            "\n",
            "Epoch: 30/40\n"
          ]
        },
        {
          "name": "stderr",
          "output_type": "stream",
          "text": [
            ""
          ]
        },
        {
          "name": "stdout",
          "output_type": "stream",
          "text": [
            "\tTrain Loss 0.5798\t Learning Rate 0.0000032\n",
            "\tVal Dist 8.0536%\t Val Loss 0.4743\n",
            "Saved best model\n",
            "\n",
            "Epoch: 31/40\n"
          ]
        },
        {
          "name": "stderr",
          "output_type": "stream",
          "text": [
            ""
          ]
        },
        {
          "name": "stdout",
          "output_type": "stream",
          "text": [
            "\tTrain Loss 0.5803\t Learning Rate 0.0000032\n",
            "\tVal Dist 8.0683%\t Val Loss 0.4742\n",
            "\n",
            "Epoch: 32/40\n"
          ]
        },
        {
          "name": "stderr",
          "output_type": "stream",
          "text": [
            ""
          ]
        },
        {
          "name": "stdout",
          "output_type": "stream",
          "text": [
            "\tTrain Loss 0.5790\t Learning Rate 0.0000006\n",
            "\tVal Dist 8.0621%\t Val Loss 0.4748\n",
            "\n",
            "Epoch: 33/40\n"
          ]
        },
        {
          "name": "stderr",
          "output_type": "stream",
          "text": [
            ""
          ]
        },
        {
          "name": "stdout",
          "output_type": "stream",
          "text": [
            "\tTrain Loss 0.5783\t Learning Rate 0.0000006\n",
            "\tVal Dist 8.0566%\t Val Loss 0.4741\n",
            "\n",
            "Epoch: 34/40\n"
          ]
        },
        {
          "name": "stderr",
          "output_type": "stream",
          "text": [
            ""
          ]
        },
        {
          "name": "stdout",
          "output_type": "stream",
          "text": [
            "\tTrain Loss 0.5793\t Learning Rate 0.0000006\n",
            "\tVal Dist 8.0736%\t Val Loss 0.4727\n",
            "\n",
            "Epoch: 35/40\n"
          ]
        },
        {
          "name": "stderr",
          "output_type": "stream",
          "text": [
            ""
          ]
        },
        {
          "name": "stdout",
          "output_type": "stream",
          "text": [
            "\tTrain Loss 0.5797\t Learning Rate 0.0000006\n",
            "\tVal Dist 8.0462%\t Val Loss 0.4738\n",
            "Saved best model\n",
            "\n",
            "Epoch: 36/40\n"
          ]
        },
        {
          "name": "stderr",
          "output_type": "stream",
          "text": [
            ""
          ]
        },
        {
          "name": "stdout",
          "output_type": "stream",
          "text": [
            "\tTrain Loss 0.5787\t Learning Rate 0.0000006\n",
            "\tVal Dist 8.0791%\t Val Loss 0.4707\n",
            "\n",
            "Epoch: 37/40\n"
          ]
        },
        {
          "name": "stderr",
          "output_type": "stream",
          "text": [
            ""
          ]
        },
        {
          "name": "stdout",
          "output_type": "stream",
          "text": [
            "\tTrain Loss 0.5780\t Learning Rate 0.0000006\n",
            "\tVal Dist 8.0585%\t Val Loss 0.4737\n",
            "\n",
            "Epoch: 38/40\n"
          ]
        },
        {
          "name": "stderr",
          "output_type": "stream",
          "text": [
            ""
          ]
        },
        {
          "name": "stdout",
          "output_type": "stream",
          "text": [
            "\tTrain Loss 0.5792\t Learning Rate 0.0000001\n",
            "\tVal Dist 8.0550%\t Val Loss 0.4746\n",
            "\n",
            "Epoch: 39/40\n"
          ]
        },
        {
          "name": "stderr",
          "output_type": "stream",
          "text": [
            ""
          ]
        },
        {
          "name": "stdout",
          "output_type": "stream",
          "text": [
            "\tTrain Loss 0.5792\t Learning Rate 0.0000001\n",
            "\tVal Dist 8.0621%\t Val Loss 0.4732\n",
            "\n",
            "Epoch: 40/40\n"
          ]
        },
        {
          "name": "stderr",
          "output_type": "stream",
          "text": [
            ""
          ]
        },
        {
          "name": "stdout",
          "output_type": "stream",
          "text": [
            "\tTrain Loss 0.5790\t Learning Rate 0.0000001\n",
            "\tVal Dist 8.0400%\t Val Loss 0.4737\n",
            "Saved best model\n"
          ]
        },
        {
          "data": {
            "application/vnd.jupyter.widget-view+json": {
              "model_id": "e239dc6915994ad088058719f68acd06",
              "version_major": 2,
              "version_minor": 0
            },
            "text/plain": [
              "VBox(children=(Label(value='69.276 MB of 69.276 MB uploaded\\r'), FloatProgress(value=1.0, max=1.0)))"
            ]
          },
          "metadata": {},
          "output_type": "display_data"
        },
        {
          "data": {
            "text/html": [
              "<style>\n",
              "    table.wandb td:nth-child(1) { padding: 0 10px; text-align: left ; width: auto;} td:nth-child(2) {text-align: left ; width: 100%}\n",
              "    .wandb-row { display: flex; flex-direction: row; flex-wrap: wrap; justify-content: flex-start; width: 100% }\n",
              "    .wandb-col { display: flex; flex-direction: column; flex-basis: 100%; flex: 1; padding: 10px; }\n",
              "    </style>\n",
              "<div class=\"wandb-row\"><div class=\"wandb-col\"><h3>Run history:</h3><br/><table class=\"wandb\"><tr><td>lr</td><td>███████▂▂▂▂▂▂▁▁▁▁▁▁▁▁▁▁▁▁▁▁▁▁▁▁▁▁▁▁▁▁▁▁▁</td></tr><tr><td>train_loss</td><td>█▇▆▆▄▂▂▁▁▁▁▁▁▁▁▁▁▁▁▁▁▁▁▁▁▁▁▁▁▁▁▁▁▁▁▁▁▁▁▁</td></tr><tr><td>valid_dist</td><td>███▇▃▂▁▁▁▁▁▁▁▁▁▁▁▁▁▁▁▁▁▁▁▁▁▁▁▁▁▁▁▁▁▁▁▁▁▁</td></tr><tr><td>valid_loss</td><td>██▇▆▃▂▁▁▁▁▁▁▁▁▁▁▁▁▁▁▁▁▁▁▁▁▁▁▁▁▁▁▁▁▁▁▁▁▁▁</td></tr></table><br/></div><div class=\"wandb-col\"><h3>Run summary:</h3><br/><table class=\"wandb\"><tr><td>lr</td><td>0.0</td></tr><tr><td>train_loss</td><td>0.579</td></tr><tr><td>valid_dist</td><td>8.04001</td></tr><tr><td>valid_loss</td><td>0.47365</td></tr></table><br/></div></div>"
            ],
            "text/plain": [
              "<IPython.core.display.HTML object>"
            ]
          },
          "metadata": {},
          "output_type": "display_data"
        },
        {
          "data": {
            "text/html": [
              " View run <strong style=\"color:#cdcd00\">ablation 5</strong> at: <a href='https://wandb.ai/alicele27/hw3p2-ablations/runs/0dieb1td/workspace' target=\"_blank\">https://wandb.ai/alicele27/hw3p2-ablations/runs/0dieb1td/workspace</a><br/>Synced 5 W&B file(s), 0 media file(s), 0 artifact file(s) and 1 other file(s)"
            ],
            "text/plain": [
              "<IPython.core.display.HTML object>"
            ]
          },
          "metadata": {},
          "output_type": "display_data"
        },
        {
          "data": {
            "text/html": [
              "Find logs at: <code>./wandb/run-20240402_010047-0dieb1td/logs</code>"
            ],
            "text/plain": [
              "<IPython.core.display.HTML object>"
            ]
          },
          "metadata": {},
          "output_type": "display_data"
        }
      ],
      "source": [
        "torch.cuda.empty_cache()\n",
        "gc.collect()\n",
        "\n",
        "#TODO: Please complete the training loop\n",
        "\n",
        "for epoch in range(0, config['epochs']):\n",
        "\n",
        "    print(\"\\nEpoch: {}/{}\".format(epoch+1, config['epochs']))\n",
        "\n",
        "    curr_lr = float(optimizer.param_groups[0]['lr']) #TODO\n",
        "\n",
        "    train_loss              = train_model(model, train_loader, criterion, optimizer) #TODO\n",
        "    valid_loss, valid_dist  = validate_model(model, val_loader, decoder, LABELS)#TODO\n",
        "    scheduler.step(valid_dist)\n",
        "\n",
        "    print(\"\\tTrain Loss {:.04f}\\t Learning Rate {:.07f}\".format(train_loss, curr_lr))\n",
        "    print(\"\\tVal Dist {:.04f}%\\t Val Loss {:.04f}\".format(valid_dist, valid_loss))\n",
        "\n",
        "\n",
        "    wandb.log({\n",
        "        'train_loss': train_loss,\n",
        "        'valid_dist': valid_dist,\n",
        "        'valid_loss': valid_loss,\n",
        "        'lr'        : curr_lr\n",
        "    })\n",
        "\n",
        "    # save_model(model, optimizer, scheduler, ['valid_dist', valid_dist], epoch, epoch_model_path)\n",
        "    # wandb.save(epoch_model_path)\n",
        "    # print(\"Saved epoch model\")\n",
        "\n",
        "    if valid_dist <= best_lev_dist:\n",
        "        best_lev_dist = valid_dist\n",
        "        save_model(model, optimizer, scheduler, ['valid_dist', valid_dist], epoch, best_model_path)\n",
        "        wandb.save(best_model_path)\n",
        "        print(\"Saved best model\")\n",
        "      # You may find it interesting to exlplore Wandb Artifcats to version your models\n",
        "run.finish()"
      ]
    },
    {
      "cell_type": "markdown",
      "metadata": {
        "id": "M2H4EEj-sD32"
      },
      "source": [
        "# Generate Predictions and Submit to Kaggle"
      ]
    },
    {
      "cell_type": "code",
      "execution_count": null,
      "metadata": {
        "id": "2moYJhTWsOG-"
      },
      "outputs": [],
      "source": [
        "#TODO: Make predictions\n",
        "\n",
        "# Follow the steps below:\n",
        "# 1. Create a new object for CTCBeamDecoder with larger (why?) number of beams\n",
        "# 2. Get prediction string by decoding the results of the beam decoder\n",
        "\n",
        "TEST_BEAM_WIDTH = 10 #TODO\n",
        "\n",
        "test_decoder    = CTCBeamDecoder(\n",
        "    labels=LABELS,\n",
        "    model_path=None,\n",
        "    alpha=0,\n",
        "    beta=0,\n",
        "    cutoff_top_n=40,\n",
        "    cutoff_prob=1.0,\n",
        "    beam_width=TEST_BEAM_WIDTH,\n",
        "    num_processes=4,\n",
        "    blank_id=0,\n",
        "    log_probs_input=True\n",
        ")#TODO\n",
        "results = []\n",
        "\n",
        "PATH_CHECKPOINT = \"/content/best_model_hw3.pth\"\n",
        "checkpoint = torch.load(PATH_CHECKPOINT)\n",
        "model.load_state_dict(checkpoint['model_state_dict'])\n",
        "\n",
        "model.eval()\n",
        "print(\"Testing\")\n",
        "for data in tqdm(test_loader):\n",
        "\n",
        "    x, lx   = data\n",
        "    print(x.shape)\n",
        "    print(lx.shape)\n",
        "    x       = x.to(device)\n",
        "\n",
        "    with torch.no_grad():\n",
        "        h, lh = model(x, lx)\n",
        "\n",
        "    output = decode_prediction(h,lh,test_decoder,LABELS)\n",
        "    results.extend(output)\n",
        "\n",
        "    del x, lx, h, lh\n",
        "    torch.cuda.empty_cache()"
      ]
    },
    {
      "cell_type": "code",
      "execution_count": null,
      "metadata": {
        "colab": {
          "background_save": true
        },
        "id": "d70dvu_lsMlv",
        "outputId": "0f0e1e5b-1a92-4d87-ae75-d5d910f25845"
      },
      "outputs": [
        {
          "name": "stdout",
          "output_type": "stream",
          "text": [
            "Warning: Looks like you're using an outdated API Version, please consider updating (server 1.6.7 / client 1.5.8)\n",
            "100% 206k/206k [00:00<00:00, 488kB/s]\n",
            "Successfully submitted to HW3P2_ASR-S24(slack)"
          ]
        }
      ],
      "source": [
        "data_dir = \"/content/11-785-s24-hw3p2\" + \"/test-clean/random_submission.csv\"\n",
        "df = pd.read_csv(data_dir)\n",
        "df.label = results\n",
        "df.to_csv('submission.csv', index = False)\n",
        "\n",
        "!kaggle competitions submit -c hw3p2asr-s24slack -f submission.csv -m \"Message\"\n"
      ]
    },
    {
      "cell_type": "code",
      "execution_count": null,
      "metadata": {
        "id": "aYlZLex66PAu"
      },
      "outputs": [],
      "source": []
    }
  ],
  "metadata": {
    "accelerator": "GPU",
    "colab": {
      "provenance": []
    },
    "kernelspec": {
      "display_name": "Python 3",
      "language": "python",
      "name": "python3"
    },
    "language_info": {
      "codemirror_mode": {
        "name": "ipython",
        "version": 3
      },
      "file_extension": ".py",
      "mimetype": "text/x-python",
      "name": "python",
      "nbconvert_exporter": "python",
      "pygments_lexer": "ipython3",
      "version": "3.10.10 (main, Feb 16 2023, 02:49:39) [Clang 14.0.0 (clang-1400.0.29.202)]"
    },
    "vscode": {
      "interpreter": {
        "hash": "bd385fe162c5ca0c84973b7dd5c518456272446b2b64e67c2a69f949ca7a1754"
      }
    }
  },
  "nbformat": 4,
  "nbformat_minor": 0
}
